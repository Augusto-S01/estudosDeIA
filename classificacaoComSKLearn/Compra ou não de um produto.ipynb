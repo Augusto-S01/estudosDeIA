{
 "cells": [
  {
   "cell_type": "code",
   "execution_count": 8,
   "id": "dbce0a84",
   "metadata": {},
   "outputs": [],
   "source": [
    "import pandas as pd \n",
    "\n",
    "uri='https://gist.githubusercontent.com/guilhermesilveira/2d2efa37d66b6c84a722ea627a897ced/raw/10968b997d885cbded1c92938c7a9912ba41c615/tracking.csv'\n",
    "\n",
    "dados = pd.read_csv(uri)"
   ]
  },
  {
   "cell_type": "code",
   "execution_count": 22,
   "id": "1bf30991",
   "metadata": {},
   "outputs": [],
   "source": [
    "mapa = {\n",
    "    \"home\":\"principal\",\n",
    "    \"how_it_works\" : \"como_funciona\",\n",
    "    \"contact\" : \"contato\",\n",
    "    \"bought\" : \"comprou\"\n",
    "}\n",
    "\n",
    "dados = dados.rename(columns=mapa)\n"
   ]
  },
  {
   "cell_type": "code",
   "execution_count": 23,
   "id": "2caa3bc0",
   "metadata": {},
   "outputs": [],
   "source": [
    "x = dados[[\"principal\",\"como_funciona\",\"contato\"]]\n",
    "y = dados[\"comprou\"]"
   ]
  },
  {
   "cell_type": "markdown",
   "id": "de4c0c7d",
   "metadata": {},
   "source": [
    "dados.shape"
   ]
  },
  {
   "cell_type": "code",
   "execution_count": 39,
   "id": "15ab1468",
   "metadata": {},
   "outputs": [
    {
     "name": "stdout",
     "output_type": "stream",
     "text": [
      "treino com 75 elementos e testes com 75 elementos\n"
     ]
    }
   ],
   "source": [
    "treino_x = x[:75]\n",
    "treino_y = y[:75]\n",
    "\n",
    "teste_x = x[75:]\n",
    "teste_y = y[75:]\n",
    "\n",
    "print(\"treino com %d elementos e testes com %d elementos\" % (len(treino_x),len(treino_y)))"
   ]
  },
  {
   "cell_type": "code",
   "execution_count": 52,
   "id": "dfcf3666",
   "metadata": {},
   "outputs": [
    {
     "name": "stdout",
     "output_type": "stream",
     "text": [
      "Acuracia de teste : 95.83%\n"
     ]
    }
   ],
   "source": [
    "from sklearn.svm import LinearSVC\n",
    "from sklearn.metrics import accuracy_score\n",
    "modelo = LinearSVC()\n",
    "modelo.fit(treino_x,treino_y)\n",
    "previsoes = modelo.predict(teste_x)\n",
    "\n",
    "acuracia = accuracy_score(teste_y,previsoes)\n",
    "print(\"Acuracia de teste : %.2f%%\" % (acuracia * 100))\n"
   ]
  },
  {
   "cell_type": "markdown",
   "id": "92e1e7d3",
   "metadata": {},
   "source": [
    "#usando split do sklearn"
   ]
  },
  {
   "cell_type": "code",
   "execution_count": 73,
   "id": "0170058b",
   "metadata": {},
   "outputs": [
    {
     "name": "stdout",
     "output_type": "stream",
     "text": [
      "treino com 74 elementos e testes com 74 elementos\n",
      "Acuracia de teste : 96.00%\n"
     ]
    }
   ],
   "source": [
    "from sklearn.model_selection import train_test_split\n",
    "from sklearn.svm import LinearSVC\n",
    "from sklearn.metrics import accuracy_score\n",
    "\n",
    "#seed para tornar replicavel o teste, por padrão o sklearn vai fazer aleatorio\n",
    "seed = 20\n",
    "\n",
    "#stratify = balancear a distribuição do y para testes e treino ( \"para não viciar\"  )\n",
    "\n",
    "#treino_x, teste_x, treino_y, teste_y = train_test_split(x,y,test_size= 0.25)\n",
    "#treino_x, teste_x, treino_y, teste_y = train_test_split(x,y,random_state= seed,test_size= 0.25,)\n",
    "treino_x, teste_x, treino_y, teste_y = train_test_split(x,y,random_state= seed,test_size= 0.25,stratify = y)\n",
    "print(\"treino com %d elementos e testes com %d elementos\" % (len(treino_x),len(treino_y)))\n",
    "modelo = LinearSVC()\n",
    "modelo.fit(treino_x,treino_y)\n",
    "previsoes = modelo.predict(teste_x)\n",
    "\n",
    "acuracia = accuracy_score(teste_y,previsoes)\n",
    "print(\"Acuracia de teste : %.2f%%\" % (acuracia * 100))"
   ]
  },
  {
   "cell_type": "code",
   "execution_count": 74,
   "id": "9a08aeeb",
   "metadata": {},
   "outputs": [
    {
     "data": {
      "text/plain": [
       "comprou\n",
       "0    49\n",
       "1    25\n",
       "Name: count, dtype: int64"
      ]
     },
     "execution_count": 74,
     "metadata": {},
     "output_type": "execute_result"
    }
   ],
   "source": [
    "treino_y.value_counts()"
   ]
  },
  {
   "cell_type": "code",
   "execution_count": 75,
   "id": "f685896b",
   "metadata": {},
   "outputs": [
    {
     "data": {
      "text/plain": [
       "comprou\n",
       "0    17\n",
       "1     8\n",
       "Name: count, dtype: int64"
      ]
     },
     "execution_count": 75,
     "metadata": {},
     "output_type": "execute_result"
    }
   ],
   "source": [
    "teste_y.value_counts()"
   ]
  },
  {
   "cell_type": "code",
   "execution_count": null,
   "id": "3509c394",
   "metadata": {},
   "outputs": [],
   "source": []
  }
 ],
 "metadata": {
  "kernelspec": {
   "display_name": "Python 3 (ipykernel)",
   "language": "python",
   "name": "python3"
  },
  "language_info": {
   "codemirror_mode": {
    "name": "ipython",
    "version": 3
   },
   "file_extension": ".py",
   "mimetype": "text/x-python",
   "name": "python",
   "nbconvert_exporter": "python",
   "pygments_lexer": "ipython3",
   "version": "3.10.10"
  }
 },
 "nbformat": 4,
 "nbformat_minor": 5
}

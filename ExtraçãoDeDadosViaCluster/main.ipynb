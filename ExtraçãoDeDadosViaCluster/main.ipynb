{
 "cells": [
  {
   "cell_type": "code",
   "execution_count": 2,
   "metadata": {},
   "outputs": [],
   "source": [
    "import pandas as pd\n",
    "import numpy as np\n",
    "\n",
    "dados = pd.read_csv(\"CC_GENERAL.csv\")\n",
    "dados.drop(columns=['CUST_ID','TENURE'],axis=1,inplace=True)"
   ]
  },
  {
   "cell_type": "code",
   "execution_count": 3,
   "metadata": {},
   "outputs": [
    {
     "data": {
      "text/plain": [
       "BALANCE                               0\n",
       "BALANCE_FREQUENCY                     0\n",
       "PURCHASES                             0\n",
       "ONEOFF_PURCHASES                      0\n",
       "INSTALLMENTS_PURCHASES                0\n",
       "CASH_ADVANCE                          0\n",
       "PURCHASES_FREQUENCY                   0\n",
       "ONEOFF_PURCHASES_FREQUENCY            0\n",
       "PURCHASES_INSTALLMENTS_FREQUENCY      0\n",
       "CASH_ADVANCE_FREQUENCY                0\n",
       "CASH_ADVANCE_TRX                      0\n",
       "PURCHASES_TRX                         0\n",
       "CREDIT_LIMIT                          1\n",
       "PAYMENTS                              0\n",
       "MINIMUM_PAYMENTS                    313\n",
       "PRC_FULL_PAYMENT                      0\n",
       "dtype: int64"
      ]
     },
     "execution_count": 3,
     "metadata": {},
     "output_type": "execute_result"
    }
   ],
   "source": [
    "faltando = dados.isna().sum()\n",
    "faltando"
   ]
  },
  {
   "cell_type": "code",
   "execution_count": 4,
   "metadata": {},
   "outputs": [
    {
     "data": {
      "text/plain": [
       "BALANCE                             0\n",
       "BALANCE_FREQUENCY                   0\n",
       "PURCHASES                           0\n",
       "ONEOFF_PURCHASES                    0\n",
       "INSTALLMENTS_PURCHASES              0\n",
       "CASH_ADVANCE                        0\n",
       "PURCHASES_FREQUENCY                 0\n",
       "ONEOFF_PURCHASES_FREQUENCY          0\n",
       "PURCHASES_INSTALLMENTS_FREQUENCY    0\n",
       "CASH_ADVANCE_FREQUENCY              0\n",
       "CASH_ADVANCE_TRX                    0\n",
       "PURCHASES_TRX                       0\n",
       "CREDIT_LIMIT                        0\n",
       "PAYMENTS                            0\n",
       "MINIMUM_PAYMENTS                    0\n",
       "PRC_FULL_PAYMENT                    0\n",
       "dtype: int64"
      ]
     },
     "execution_count": 4,
     "metadata": {},
     "output_type": "execute_result"
    }
   ],
   "source": [
    "dados.fillna(dados.median(), inplace=True)\n",
    "faltando = dados.isna().sum()\n",
    "faltando"
   ]
  },
  {
   "cell_type": "code",
   "execution_count": 5,
   "metadata": {},
   "outputs": [],
   "source": [
    "from sklearn.preprocessing import Normalizer\n",
    "values = Normalizer().fit_transform(dados.values)"
   ]
  },
  {
   "cell_type": "code",
   "execution_count": 6,
   "metadata": {},
   "outputs": [],
   "source": [
    "from sklearn.cluster import KMeans\n",
    "# n_clusters = numero de clusters\n",
    "# n_init = roda 10x seguidas e retorna 10x o mesmo valor\n",
    "# max_inter = numero maximo de interações\n",
    "kmeans = KMeans(n_clusters=5, n_init=10, max_iter=300)\n",
    "y_pred = kmeans.fit_predict(values)"
   ]
  },
  {
   "attachments": {},
   "cell_type": "markdown",
   "metadata": {},
   "source": [
    "Metricas de validação\n",
    "Externas                    | Internas\n",
    "precisamos ter os labels    | independente de labels\n",
    "\n",
    "\n",
    "criterios de validação\n",
    "Compactação: quão próximo estão os pontos em um mesmo cluster\n",
    "Separação: quão bem separados estão os pontos em clusters diferentes"
   ]
  },
  {
   "attachments": {},
   "cell_type": "markdown",
   "metadata": {},
   "source": [
    "Coeficiente de Silhoutte\n",
    "$$\n",
    "\\begin{equation}\n",
    "    \\begin{aligned}\n",
    "       s = \\frac{b - a}{max(a,b)} \\\\\n",
    "       \\\\\n",
    "        a &= \\text{alpha, distância média entre o ponto e todos os outros pontos do mesmo cluster} \\\\\n",
    "        b &= \\text{beta , distância média entre o ponto e todos os outros pontos do cluster mais próximo} \\\\\n",
    "    \\end{aligned}\n",
    "\\end{equation}\n",
    "$$\n",
    "\n",
    "Distância Euclidiana\n",
    "$$\n",
    "\\begin{equation}\n",
    "    \\begin{aligned}\n",
    "       d(A , B) = \\sqrt{(x_{B} - x_{A})^2 + (y_{B} - y_{A})^2} \\\\\n",
    "    \\end{aligned}\n",
    "\\end{equation}\n",
    "$$"
   ]
  },
  {
   "cell_type": "code",
   "execution_count": 7,
   "metadata": {},
   "outputs": [
    {
     "name": "stdout",
     "output_type": "stream",
     "text": [
      "0.36451198422831005\n"
     ]
    }
   ],
   "source": [
    "from sklearn import metrics\n",
    "labels = kmeans.labels_\n",
    "silhoutte = metrics.silhouette_score(values,labels,metric='euclidean')\n",
    "print (silhoutte)\n",
    "#0.3645139131518675 pode ser considerado um valor bom pois estra entre 1 e -1\n",
    "# quanto mais proximo de 1 estiver o valor mais separados estão os clusters e melhor compactação"
   ]
  },
  {
   "attachments": {},
   "cell_type": "markdown",
   "metadata": {},
   "source": [
    "Indice Davies-Bouldin\n",
    "\n",
    "$$\n",
    "\\begin{equation}\n",
    "    \\begin{aligned}\n",
    "        DB = \\frac{1}{k}  \\sum_{k}^{i=1}max R_{ij} \\\\\n",
    "       \\\\\n",
    "        R_{ij} = \\frac{s_{i} + s_{j}}{d_{ij}}\\\\\n",
    "        \\text{ medida de similaridade entre dois clusters i e j} \\\\\n",
    "        \\text{ S = distancia média entre cada ponto do cluster e seu centroide}\\\\\n",
    "        \\text{ D = distancia entre os centroides dos clusters}\\\\\n",
    "\n",
    "    \\end{aligned}\n",
    "\\end{equation}\n",
    "$$"
   ]
  },
  {
   "cell_type": "code",
   "execution_count": 8,
   "metadata": {},
   "outputs": [
    {
     "name": "stdout",
     "output_type": "stream",
     "text": [
      "1.0754963863506781\n"
     ]
    }
   ],
   "source": [
    "dbs = metrics.davies_bouldin_score(values,labels)\n",
    "\n",
    "#quanto mais proximo de 0 melhor\n",
    "print(dbs)"
   ]
  },
  {
   "attachments": {},
   "cell_type": "markdown",
   "metadata": {},
   "source": [
    "Indice Calinski-Harabasz \n",
    "leva em consideração a disperção dos pontos dentro de um clusters\n",
    "$$\n",
    "\n",
    "\\begin{equation}\n",
    "    \\begin{aligned}\n",
    "        s = \\frac{tr(B_{k})}{tr(W_{k})} * \\frac{n_{E} - k} {k - 1} \\\\\n",
    "    \\end{aligned}\n",
    "\\end{equation}\n",
    "$$\n",
    "-----------------------------------------------------------------------------------------------------------------\n",
    "$$\n",
    "\n",
    "\\begin{equation}\n",
    "    \\begin{aligned}\n",
    "        \\frac{tr(B_{k})}{tr(W_{k})} \\\\\n",
    "\n",
    "\n",
    "        W_{k} = \\sum_{q=1}^{k} \\sum_{x ∈ C_{q}}^{} (x - C_{q})(x - C_{q})^{T}\n",
    "        \\\\ \\\\\n",
    "            \n",
    "            k     &= \\text{número de clusters}\\\\\n",
    "            q     &= \\text{cluster}\\\\\n",
    "            B_{k} &= \\text{ dispersão dos elementos entre (between) clusters} \\\\\n",
    "            W_{k} &= \\text{ dispersão dos elementos dentro (within) clusters} \\\\\n",
    "\n",
    "            \\\\\n",
    "\n",
    "    \\end{aligned}\n",
    "\\end{equation}\n",
    "      \n",
    "     \n",
    "\n",
    "$$\n",
    "\n",
    "\n",
    "\n",
    "a primeira parte da a razão da disperções dentro do cluster e a disperção entre clusters\n",
    "$$\n",
    "\n",
    "\\begin{equation}\n",
    "    \\begin{aligned}\n",
    "        \\frac{n_{E} - k} {k - 1} \\\\\n",
    "\n",
    "\n",
    "        n_{e} &=  \\text{ numero de elementos} \\\\\n",
    "        k     &=  \\text{numero de clusters} \\\\\n",
    "\n",
    "\n",
    "        \n",
    "\n",
    "\n",
    "    \\end{aligned}\n",
    "\\end{equation}\n",
    "$$\n",
    "e a segunda parte multiplica esse valor em relação ao numero de clusters e elementos"
   ]
  },
  {
   "cell_type": "code",
   "execution_count": 9,
   "metadata": {},
   "outputs": [
    {
     "name": "stdout",
     "output_type": "stream",
     "text": [
      "3431.79476705023\n"
     ]
    }
   ],
   "source": [
    "calinski = metrics.calinski_harabasz_score(values,labels)\n",
    "#quanto maior o valor melhor\n",
    "print(calinski)"
   ]
  },
  {
   "cell_type": "code",
   "execution_count": 10,
   "metadata": {},
   "outputs": [],
   "source": [
    "def clustering_algorithm(n_clusters,dataset):\n",
    "    kmeans = KMeans(n_clusters=n_clusters , n_init=10 , max_iter=300)\n",
    "    labels = kmeans.fit_predict(dataset)\n",
    "    s = metrics.silhouette_score(dataset, labels, metric='euclidean')\n",
    "    dbs = metrics.davies_bouldin_score(dataset,labels)\n",
    "    calinski = metrics.calinski_harabasz_score(dataset,labels)\n",
    "    return s, dbs , calinski"
   ]
  },
  {
   "cell_type": "code",
   "execution_count": 11,
   "metadata": {},
   "outputs": [
    {
     "name": "stdout",
     "output_type": "stream",
     "text": [
      "0.3272203126696238 1.0754963863506781 3526.440519908274\n"
     ]
    }
   ],
   "source": [
    "s1, dbs2 , calinski1 = clustering_algorithm(3,values)\n",
    "print(s1 , dbs , calinski1)"
   ]
  },
  {
   "cell_type": "code",
   "execution_count": 12,
   "metadata": {},
   "outputs": [
    {
     "name": "stdout",
     "output_type": "stream",
     "text": [
      "0.3643891019677421 1.3096073640088426 3431.776631279097\n"
     ]
    }
   ],
   "source": [
    "s2, dbs3 , calinski2 = clustering_algorithm(5,values)\n",
    "print(s2 , dbs2 , calinski2)"
   ]
  },
  {
   "cell_type": "code",
   "execution_count": 13,
   "metadata": {},
   "outputs": [
    {
     "name": "stdout",
     "output_type": "stream",
     "text": [
      "0.3054088558411567 1.1544603360093093 3017.7759908325665\n"
     ]
    }
   ],
   "source": [
    "s3, dbs3 , calinski3 = clustering_algorithm(10,values)\n",
    "print(s3 , dbs3 , calinski3)"
   ]
  },
  {
   "cell_type": "code",
   "execution_count": 14,
   "metadata": {},
   "outputs": [
    {
     "name": "stdout",
     "output_type": "stream",
     "text": [
      "0.039522456138781026 3.5841750418570655 305.40761650397405\n",
      "0.3643891019677421 1.3096073640088426 3431.776631279097\n"
     ]
    }
   ],
   "source": [
    "random_data = np.random.rand(8950,16)\n",
    "sRandom , dbRandom , calinskiRandom = clustering_algorithm(5,random_data)\n",
    "print(sRandom,dbRandom,calinskiRandom)\n",
    "print(s2 , dbs2 , calinski2)"
   ]
  },
  {
   "cell_type": "code",
   "execution_count": 15,
   "metadata": {},
   "outputs": [],
   "source": [
    "set1 ,set2, set3= np.array_split(values,3)\n",
    "s1 , dbs1 , calinski1 = clustering_algorithm(5,set1)\n",
    "s2 , dbs2 , calinski2 = clustering_algorithm(5,set2)\n",
    "s3 , dbs3 , calinski3 = clustering_algorithm(5,set3)"
   ]
  },
  {
   "cell_type": "code",
   "execution_count": 16,
   "metadata": {},
   "outputs": [
    {
     "name": "stdout",
     "output_type": "stream",
     "text": [
      "0.36860891867648515 1.056334697944936 1204.111582769171\n",
      "0.35350840508474196 1.1398820749293481 1194.791527132435\n",
      "0.36704188760608253 1.0984932613776766 1167.5309516803998\n"
     ]
    }
   ],
   "source": [
    "print(s1 , dbs1 , calinski1)\n",
    "print(s2 , dbs2 , calinski2)\n",
    "print(s3 , dbs3 , calinski3)"
   ]
  },
  {
   "cell_type": "code",
   "execution_count": 17,
   "metadata": {},
   "outputs": [
    {
     "data": {
      "image/png": "[encoded data removed]",
      "text/plain": [
       "<Figure size 640x480 with 1 Axes>"
      ]
     },
     "metadata": {},
     "output_type": "display_data"
    }
   ],
   "source": [
    "import matplotlib.pyplot as plt\n",
    "plt.scatter(dados['PURCHASES'],dados['PAYMENTS'],c=labels, s=5 , cmap=\"rainbow\")\n",
    "plt.xlabel(\"valor total pago\")\n",
    "plt.ylabel(\"valor total gasto\")\n",
    "plt.show()"
   ]
  },
  {
   "cell_type": "code",
   "execution_count": 18,
   "metadata": {},
   "outputs": [],
   "source": [
    "import seaborn as sns\n",
    "dados['cluster'] = labels\n",
    "# sns.pairplot(dados[0:], hue=\"cluster\")"
   ]
  },
  {
   "cell_type": "code",
   "execution_count": 19,
   "metadata": {},
   "outputs": [
    {
     "data": {
      "text/html": [
       "<div>\n",
       "<style scoped>\n",
       "    .dataframe tbody tr th:only-of-type {\n",
       "        vertical-align: middle;\n",
       "    }\n",
       "\n",
       "    .dataframe tbody tr th {\n",
       "        vertical-align: top;\n",
       "    }\n",
       "\n",
       "    .dataframe thead tr th {\n",
       "        text-align: left;\n",
       "    }\n",
       "\n",
       "    .dataframe thead tr:last-of-type th {\n",
       "        text-align: right;\n",
       "    }\n",
       "</style>\n",
       "<table border=\"1\" class=\"dataframe\">\n",
       "  <thead>\n",
       "    <tr>\n",
       "      <th></th>\n",
       "      <th colspan=\"8\" halign=\"left\">BALANCE</th>\n",
       "      <th colspan=\"2\" halign=\"left\">BALANCE_FREQUENCY</th>\n",
       "      <th>...</th>\n",
       "      <th colspan=\"2\" halign=\"left\">MINIMUM_PAYMENTS</th>\n",
       "      <th colspan=\"8\" halign=\"left\">PRC_FULL_PAYMENT</th>\n",
       "    </tr>\n",
       "    <tr>\n",
       "      <th></th>\n",
       "      <th>count</th>\n",
       "      <th>mean</th>\n",
       "      <th>std</th>\n",
       "      <th>min</th>\n",
       "      <th>25%</th>\n",
       "      <th>50%</th>\n",
       "      <th>75%</th>\n",
       "      <th>max</th>\n",
       "      <th>count</th>\n",
       "      <th>mean</th>\n",
       "      <th>...</th>\n",
       "      <th>75%</th>\n",
       "      <th>max</th>\n",
       "      <th>count</th>\n",
       "      <th>mean</th>\n",
       "      <th>std</th>\n",
       "      <th>min</th>\n",
       "      <th>25%</th>\n",
       "      <th>50%</th>\n",
       "      <th>75%</th>\n",
       "      <th>max</th>\n",
       "    </tr>\n",
       "    <tr>\n",
       "      <th>cluster</th>\n",
       "      <th></th>\n",
       "      <th></th>\n",
       "      <th></th>\n",
       "      <th></th>\n",
       "      <th></th>\n",
       "      <th></th>\n",
       "      <th></th>\n",
       "      <th></th>\n",
       "      <th></th>\n",
       "      <th></th>\n",
       "      <th></th>\n",
       "      <th></th>\n",
       "      <th></th>\n",
       "      <th></th>\n",
       "      <th></th>\n",
       "      <th></th>\n",
       "      <th></th>\n",
       "      <th></th>\n",
       "      <th></th>\n",
       "      <th></th>\n",
       "      <th></th>\n",
       "    </tr>\n",
       "  </thead>\n",
       "  <tbody>\n",
       "    <tr>\n",
       "      <th>0</th>\n",
       "      <td>1071.0</td>\n",
       "      <td>1795.836702</td>\n",
       "      <td>1983.632225</td>\n",
       "      <td>0.000000</td>\n",
       "      <td>506.773698</td>\n",
       "      <td>1088.056301</td>\n",
       "      <td>2317.702916</td>\n",
       "      <td>14581.459140</td>\n",
       "      <td>1071.0</td>\n",
       "      <td>0.861984</td>\n",
       "      <td>...</td>\n",
       "      <td>887.346861</td>\n",
       "      <td>21235.065300</td>\n",
       "      <td>1071.0</td>\n",
       "      <td>0.117296</td>\n",
       "      <td>0.186974</td>\n",
       "      <td>0.0</td>\n",
       "      <td>0.0</td>\n",
       "      <td>0.083333</td>\n",
       "      <td>0.142857</td>\n",
       "      <td>1.0</td>\n",
       "    </tr>\n",
       "    <tr>\n",
       "      <th>1</th>\n",
       "      <td>3281.0</td>\n",
       "      <td>443.767052</td>\n",
       "      <td>846.269966</td>\n",
       "      <td>0.000000</td>\n",
       "      <td>23.390230</td>\n",
       "      <td>82.980060</td>\n",
       "      <td>411.727643</td>\n",
       "      <td>9630.367575</td>\n",
       "      <td>3281.0</td>\n",
       "      <td>0.774457</td>\n",
       "      <td>...</td>\n",
       "      <td>248.700571</td>\n",
       "      <td>4483.503862</td>\n",
       "      <td>3281.0</td>\n",
       "      <td>0.246761</td>\n",
       "      <td>0.346705</td>\n",
       "      <td>0.0</td>\n",
       "      <td>0.0</td>\n",
       "      <td>0.000000</td>\n",
       "      <td>0.444444</td>\n",
       "      <td>1.0</td>\n",
       "    </tr>\n",
       "    <tr>\n",
       "      <th>2</th>\n",
       "      <td>2648.0</td>\n",
       "      <td>3038.132314</td>\n",
       "      <td>2479.290949</td>\n",
       "      <td>6.824905</td>\n",
       "      <td>1256.126442</td>\n",
       "      <td>2173.994774</td>\n",
       "      <td>4224.605542</td>\n",
       "      <td>18495.558550</td>\n",
       "      <td>2648.0</td>\n",
       "      <td>0.963768</td>\n",
       "      <td>...</td>\n",
       "      <td>1330.437428</td>\n",
       "      <td>8345.641905</td>\n",
       "      <td>2648.0</td>\n",
       "      <td>0.001800</td>\n",
       "      <td>0.023264</td>\n",
       "      <td>0.0</td>\n",
       "      <td>0.0</td>\n",
       "      <td>0.000000</td>\n",
       "      <td>0.000000</td>\n",
       "      <td>0.6</td>\n",
       "    </tr>\n",
       "    <tr>\n",
       "      <th>3</th>\n",
       "      <td>1538.0</td>\n",
       "      <td>1143.712630</td>\n",
       "      <td>1664.669654</td>\n",
       "      <td>0.000000</td>\n",
       "      <td>212.513230</td>\n",
       "      <td>555.745265</td>\n",
       "      <td>1371.943854</td>\n",
       "      <td>19043.138560</td>\n",
       "      <td>1538.0</td>\n",
       "      <td>0.928255</td>\n",
       "      <td>...</td>\n",
       "      <td>524.765832</td>\n",
       "      <td>18621.013310</td>\n",
       "      <td>1538.0</td>\n",
       "      <td>0.278149</td>\n",
       "      <td>0.366934</td>\n",
       "      <td>0.0</td>\n",
       "      <td>0.0</td>\n",
       "      <td>0.083333</td>\n",
       "      <td>0.545455</td>\n",
       "      <td>1.0</td>\n",
       "    </tr>\n",
       "    <tr>\n",
       "      <th>4</th>\n",
       "      <td>412.0</td>\n",
       "      <td>1987.146873</td>\n",
       "      <td>1852.215743</td>\n",
       "      <td>70.794108</td>\n",
       "      <td>1020.146724</td>\n",
       "      <td>1338.918346</td>\n",
       "      <td>2133.415063</td>\n",
       "      <td>11670.179850</td>\n",
       "      <td>412.0</td>\n",
       "      <td>0.989512</td>\n",
       "      <td>...</td>\n",
       "      <td>7086.774783</td>\n",
       "      <td>76406.207520</td>\n",
       "      <td>412.0</td>\n",
       "      <td>0.019271</td>\n",
       "      <td>0.090795</td>\n",
       "      <td>0.0</td>\n",
       "      <td>0.0</td>\n",
       "      <td>0.000000</td>\n",
       "      <td>0.000000</td>\n",
       "      <td>1.0</td>\n",
       "    </tr>\n",
       "  </tbody>\n",
       "</table>\n",
       "<p>5 rows × 128 columns</p>\n",
       "</div>"
      ],
      "text/plain": [
       "        BALANCE                                                     \n",
       "          count         mean          std        min          25%   \n",
       "cluster                                                             \n",
       "0        1071.0  1795.836702  1983.632225   0.000000   506.773698  \\\n",
       "1        3281.0   443.767052   846.269966   0.000000    23.390230   \n",
       "2        2648.0  3038.132314  2479.290949   6.824905  1256.126442   \n",
       "3        1538.0  1143.712630  1664.669654   0.000000   212.513230   \n",
       "4         412.0  1987.146873  1852.215743  70.794108  1020.146724   \n",
       "\n",
       "                                                BALANCE_FREQUENCY             \n",
       "                 50%          75%           max             count      mean   \n",
       "cluster                                                                       \n",
       "0        1088.056301  2317.702916  14581.459140            1071.0  0.861984  \\\n",
       "1          82.980060   411.727643   9630.367575            3281.0  0.774457   \n",
       "2        2173.994774  4224.605542  18495.558550            2648.0  0.963768   \n",
       "3         555.745265  1371.943854  19043.138560            1538.0  0.928255   \n",
       "4        1338.918346  2133.415063  11670.179850             412.0  0.989512   \n",
       "\n",
       "         ... MINIMUM_PAYMENTS               PRC_FULL_PAYMENT             \n",
       "         ...              75%           max            count      mean   \n",
       "cluster  ...                                                             \n",
       "0        ...       887.346861  21235.065300           1071.0  0.117296  \\\n",
       "1        ...       248.700571   4483.503862           3281.0  0.246761   \n",
       "2        ...      1330.437428   8345.641905           2648.0  0.001800   \n",
       "3        ...       524.765832  18621.013310           1538.0  0.278149   \n",
       "4        ...      7086.774783  76406.207520            412.0  0.019271   \n",
       "\n",
       "                                                      \n",
       "              std  min  25%       50%       75%  max  \n",
       "cluster                                               \n",
       "0        0.186974  0.0  0.0  0.083333  0.142857  1.0  \n",
       "1        0.346705  0.0  0.0  0.000000  0.444444  1.0  \n",
       "2        0.023264  0.0  0.0  0.000000  0.000000  0.6  \n",
       "3        0.366934  0.0  0.0  0.083333  0.545455  1.0  \n",
       "4        0.090795  0.0  0.0  0.000000  0.000000  1.0  \n",
       "\n",
       "[5 rows x 128 columns]"
      ]
     },
     "execution_count": 19,
     "metadata": {},
     "output_type": "execute_result"
    }
   ],
   "source": [
    "dados.groupby(\"cluster\").describe()"
   ]
  },
  {
   "cell_type": "code",
   "execution_count": 20,
   "metadata": {},
   "outputs": [
    {
     "data": {
      "text/plain": [
       "array([[2.35481987e-01, 2.16532182e-04, 6.00600804e-02, 3.39871776e-02,\n",
       "        2.60781223e-02, 4.00599972e-01, 5.26908300e-05, 2.04104938e-05,\n",
       "        3.53115349e-05, 6.55611402e-05, 1.57284062e-03, 1.12114713e-03,\n",
       "        5.34945073e-01, 5.97780714e-01, 1.04603362e-01, 2.77383565e-05],\n",
       "       [6.91187945e-02, 2.30816694e-04, 1.21521078e-01, 4.80031635e-02,\n",
       "        7.36181130e-02, 2.43929836e-02, 1.72835316e-04, 3.36833100e-05,\n",
       "        1.40285541e-04, 7.93760274e-06, 1.24322926e-04, 2.86353752e-03,\n",
       "        9.43525517e-01, 1.53887007e-01, 5.68550654e-02, 7.61360874e-05],\n",
       "       [5.04294070e-01, 2.72242076e-04, 6.17554553e-02, 3.62405829e-02,\n",
       "        2.55365937e-02, 2.52765717e-01, 6.72943541e-05, 2.57072238e-05,\n",
       "        4.50409323e-05, 5.74261583e-05, 1.15669149e-03, 1.33139220e-03,\n",
       "        7.19260678e-01, 1.66160406e-01, 1.79203910e-01, 5.52512128e-07],\n",
       "       [1.59893172e-01, 2.45101382e-04, 4.38385714e-01, 2.57205740e-01,\n",
       "        1.81351596e-01, 2.60404572e-02, 2.04213900e-04, 8.90367629e-05,\n",
       "        1.50434389e-04, 9.40165310e-06, 1.70436759e-04, 6.17221746e-03,\n",
       "        6.03815441e-01, 4.02876087e-01, 8.52134751e-02, 7.19112993e-05],\n",
       "       [3.32972556e-01, 2.68240066e-04, 1.58923673e-01, 3.62178588e-02,\n",
       "        1.23089552e-01, 5.82140753e-02, 1.66817881e-04, 2.64295391e-05,\n",
       "        1.47135264e-04, 1.92748591e-05, 4.26896159e-04, 3.86195702e-03,\n",
       "        3.76646957e-01, 2.52402941e-01, 6.79571553e-01, 4.22964707e-06]])"
      ]
     },
     "execution_count": 20,
     "metadata": {},
     "output_type": "execute_result"
    }
   ],
   "source": [
    "centroids = kmeans.cluster_centers_\n",
    "centroids"
   ]
  },
  {
   "cell_type": "code",
   "execution_count": 21,
   "metadata": {},
   "outputs": [
    {
     "name": "stdout",
     "output_type": "stream",
     "text": [
      "BALANCE 0.0224\n",
      "BALANCE_FREQUENCY 0.0000\n",
      "PURCHASES 0.0197\n",
      "ONEOFF_PURCHASES 0.0077\n",
      "INSTALLMENTS_PURCHASES 0.0036\n",
      "CASH_ADVANCE 0.0226\n",
      "PURCHASES_FREQUENCY 0.0000\n",
      "ONEOFF_PURCHASES_FREQUENCY 0.0000\n",
      "PURCHASES_INSTALLMENTS_FREQUENCY 0.0000\n",
      "CASH_ADVANCE_FREQUENCY 0.0000\n",
      "CASH_ADVANCE_TRX 0.0000\n",
      "PURCHASES_TRX 0.0000\n",
      "CREDIT_LIMIT 0.0360\n",
      "PAYMENTS 0.0279\n",
      "MINIMUM_PAYMENTS 0.0542\n",
      "PRC_FULL_PAYMENT 0.0000\n"
     ]
    }
   ],
   "source": [
    "max = len(centroids[0])\n",
    "for i in range(max):\n",
    "    print(dados.columns.values[i],\"{:.4f}\".format( centroids[:,i].var()))"
   ]
  },
  {
   "attachments": {},
   "cell_type": "markdown",
   "metadata": {},
   "source": [
    "BALANCE  0.0224\n",
    "PURCHASES 0.0197\n",
    "CASH_ADVANCE 0.0226\n",
    "CREDIT_LIMIT 0.0360\n",
    "PAYMENTS 0.0280"
   ]
  },
  {
   "cell_type": "code",
   "execution_count": 22,
   "metadata": {},
   "outputs": [
    {
     "name": "stdout",
     "output_type": "stream",
     "text": [
      "             BALANCE    PURCHASES  CASH_ADVANCE  CREDIT_LIMIT     PAYMENTS   \n",
      "cluster                                                                      \n",
      "0        1795.836702   470.954463   3272.160223   3975.416631  4704.149015  \\\n",
      "1         443.767052   629.212624    141.652025   5129.746043   814.456295   \n",
      "2        3038.132314   385.096760   1636.114441   4496.336858   968.599396   \n",
      "3        1143.712630  3274.692952    186.045097   4103.875261  3046.004076   \n",
      "4        1987.146873   858.326286    420.107194   2226.699029  1338.974045   \n",
      "\n",
      "         n_clients  \n",
      "cluster             \n",
      "0             1071  \n",
      "1             3281  \n",
      "2             2648  \n",
      "3             1538  \n",
      "4              412  \n"
     ]
    }
   ],
   "source": [
    "description = dados.groupby(\"cluster\")[[\"BALANCE\",\"PURCHASES\",\"CASH_ADVANCE\",\"CREDIT_LIMIT\",\"PAYMENTS\"]]\n",
    "n_clients = description.size()\n",
    "description = description.mean()\n",
    "description['n_clients'] = n_clients\n",
    "print(description) \n"
   ]
  },
  {
   "attachments": {},
   "cell_type": "markdown",
   "metadata": {},
   "source": [
    "CLUSTER 0: Clientes que gastam pouco. Clientes com o maior limite. Maior numero de clientes\n",
    "CLUSTER 1: Clientes que mais gastam. O foco deles é saque. piores pagadores. boa quantidade de clientes\n",
    "CLUSTER 2: Clientes que gastam muito com compras. melhores pagadores \n",
    "CLUSTER 3: Clientes que gastam muito com saques. pagam as vezes\n",
    "CLUSTER 4: Clientes com o menor limite. não são bom pagadores .menor quantidade de clientes"
   ]
  },
  {
   "cell_type": "code",
   "execution_count": 23,
   "metadata": {},
   "outputs": [
    {
     "data": {
      "text/html": [
       "<div>\n",
       "<style scoped>\n",
       "    .dataframe tbody tr th:only-of-type {\n",
       "        vertical-align: middle;\n",
       "    }\n",
       "\n",
       "    .dataframe tbody tr th {\n",
       "        vertical-align: top;\n",
       "    }\n",
       "\n",
       "    .dataframe thead th {\n",
       "        text-align: right;\n",
       "    }\n",
       "</style>\n",
       "<table border=\"1\" class=\"dataframe\">\n",
       "  <thead>\n",
       "    <tr style=\"text-align: right;\">\n",
       "      <th></th>\n",
       "      <th>count</th>\n",
       "      <th>mean</th>\n",
       "      <th>std</th>\n",
       "      <th>min</th>\n",
       "      <th>25%</th>\n",
       "      <th>50%</th>\n",
       "      <th>75%</th>\n",
       "      <th>max</th>\n",
       "    </tr>\n",
       "    <tr>\n",
       "      <th>cluster</th>\n",
       "      <th></th>\n",
       "      <th></th>\n",
       "      <th></th>\n",
       "      <th></th>\n",
       "      <th></th>\n",
       "      <th></th>\n",
       "      <th></th>\n",
       "      <th></th>\n",
       "    </tr>\n",
       "  </thead>\n",
       "  <tbody>\n",
       "    <tr>\n",
       "      <th>0</th>\n",
       "      <td>1071.0</td>\n",
       "      <td>0.117296</td>\n",
       "      <td>0.186974</td>\n",
       "      <td>0.0</td>\n",
       "      <td>0.0</td>\n",
       "      <td>0.083333</td>\n",
       "      <td>0.142857</td>\n",
       "      <td>1.0</td>\n",
       "    </tr>\n",
       "    <tr>\n",
       "      <th>1</th>\n",
       "      <td>3281.0</td>\n",
       "      <td>0.246761</td>\n",
       "      <td>0.346705</td>\n",
       "      <td>0.0</td>\n",
       "      <td>0.0</td>\n",
       "      <td>0.000000</td>\n",
       "      <td>0.444444</td>\n",
       "      <td>1.0</td>\n",
       "    </tr>\n",
       "    <tr>\n",
       "      <th>2</th>\n",
       "      <td>2648.0</td>\n",
       "      <td>0.001800</td>\n",
       "      <td>0.023264</td>\n",
       "      <td>0.0</td>\n",
       "      <td>0.0</td>\n",
       "      <td>0.000000</td>\n",
       "      <td>0.000000</td>\n",
       "      <td>0.6</td>\n",
       "    </tr>\n",
       "    <tr>\n",
       "      <th>3</th>\n",
       "      <td>1538.0</td>\n",
       "      <td>0.278149</td>\n",
       "      <td>0.366934</td>\n",
       "      <td>0.0</td>\n",
       "      <td>0.0</td>\n",
       "      <td>0.083333</td>\n",
       "      <td>0.545455</td>\n",
       "      <td>1.0</td>\n",
       "    </tr>\n",
       "    <tr>\n",
       "      <th>4</th>\n",
       "      <td>412.0</td>\n",
       "      <td>0.019271</td>\n",
       "      <td>0.090795</td>\n",
       "      <td>0.0</td>\n",
       "      <td>0.0</td>\n",
       "      <td>0.000000</td>\n",
       "      <td>0.000000</td>\n",
       "      <td>1.0</td>\n",
       "    </tr>\n",
       "  </tbody>\n",
       "</table>\n",
       "</div>"
      ],
      "text/plain": [
       "          count      mean       std  min  25%       50%       75%  max\n",
       "cluster                                                               \n",
       "0        1071.0  0.117296  0.186974  0.0  0.0  0.083333  0.142857  1.0\n",
       "1        3281.0  0.246761  0.346705  0.0  0.0  0.000000  0.444444  1.0\n",
       "2        2648.0  0.001800  0.023264  0.0  0.0  0.000000  0.000000  0.6\n",
       "3        1538.0  0.278149  0.366934  0.0  0.0  0.083333  0.545455  1.0\n",
       "4         412.0  0.019271  0.090795  0.0  0.0  0.000000  0.000000  1.0"
      ]
     },
     "execution_count": 23,
     "metadata": {},
     "output_type": "execute_result"
    }
   ],
   "source": [
    "dados.groupby(\"cluster\")[\"PRC_FULL_PAYMENT\"].describe()"
   ]
  }
 ],
 "metadata": {
  "kernelspec": {
   "display_name": "Python 3",
   "language": "python",
   "name": "python3"
  },
  "language_info": {
   "codemirror_mode": {
    "name": "ipython",
    "version": 3
   },
   "file_extension": ".py",
   "mimetype": "text/x-python",
   "name": "python",
   "nbconvert_exporter": "python",
   "pygments_lexer": "ipython3",
   "version": "3.11.3"
  },
  "orig_nbformat": 4
 },
 "nbformat": 4,
 "nbformat_minor": 2
}

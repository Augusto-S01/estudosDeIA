{
 "cells": [
  {
   "attachments": {},
   "cell_type": "markdown",
   "metadata": {},
   "source": [
    "Importando Dados"
   ]
  },
  {
   "cell_type": "code",
   "execution_count": null,
   "metadata": {},
   "outputs": [],
   "source": [
    "import tensorflow\n",
    "from tensorflow import keras\n",
    "import keras\n",
    "import matplotlib.pyplot as plt\n",
    "\n",
    "\n",
    "\n",
    "\n",
    "dataset = keras.datasets.fashion_mnist\n",
    "((imagens_treino, identificacoes_treino), (imagens_teste, identificacoes_teste)) = dataset.load_data()\n",
    "\n",
    "\n",
    "# len(imagens_treino)\n",
    "# imagens_treino.shape\n",
    "# imagens_teste.shape\n",
    "# len(identificacoes_teste)"
   ]
  },
  {
   "cell_type": "code",
   "execution_count": null,
   "metadata": {},
   "outputs": [],
   "source": [
    "print(\"numero de imagens de treino:          %d\" % len(imagens_treino))\n",
    "print(\"numero de imagens de teste:           %d\" % len(imagens_teste))\n",
    "\n",
    "print(\"numero de identificadores de teste:   %d\" % len(identificacoes_teste))\n",
    "print(\"numero de identificadores de treino:  %d\" % len(identificacoes_treino))\n",
    "\n",
    "\n",
    "print(\"shape imagens_treino:            \", imagens_treino.shape)\n",
    "print(\"shape imagens_teste :            \", imagens_teste.shape)\n",
    "print(\"shape identificadores de teste:  \", identificacoes_teste.shape)\n",
    "print(\"shape identificadores de treino: \", identificacoes_treino.shape)"
   ]
  },
  {
   "cell_type": "code",
   "execution_count": null,
   "metadata": {},
   "outputs": [],
   "source": [
    "import numpy as np\n",
    "from tensorflow.keras.models import load_model"
   ]
  },
  {
   "attachments": {},
   "cell_type": "markdown",
   "metadata": {},
   "source": [
    "\n",
    "Visualizando Primeira imagem"
   ]
  },
  {
   "cell_type": "code",
   "execution_count": null,
   "metadata": {},
   "outputs": [],
   "source": [
    "plt.imshow(imagens_treino[0])\n",
    "plt.title(identificacoes_treino[0])"
   ]
  },
  {
   "attachments": {},
   "cell_type": "markdown",
   "metadata": {},
   "source": [
    "Criando nomes para os classificadores"
   ]
  },
  {
   "cell_type": "code",
   "execution_count": null,
   "metadata": {},
   "outputs": [],
   "source": [
    "nomes_de_classificadores = ['Camiseta',\"Calça\",\"Pullover\",\"Vestido\",\"Casaco\",\"Sandália\",\"Camisa\",\"Tênis\",\"Bolsa\",\"Bota\"]"
   ]
  },
  {
   "attachments": {},
   "cell_type": "markdown",
   "metadata": {},
   "source": [
    "Plotando todas as imagens"
   ]
  },
  {
   "cell_type": "code",
   "execution_count": null,
   "metadata": {},
   "outputs": [],
   "source": [
    "plt.imshow(imagens_treino[0])\n",
    "plt.colorbar()"
   ]
  },
  {
   "cell_type": "code",
   "execution_count": null,
   "metadata": {},
   "outputs": [],
   "source": [
    "for imagem in range(10):\n",
    "    plt.subplot(2,5,imagem+1)\n",
    "    plt.imshow(imagens_treino[imagem])\n",
    "    plt.title(nomes_de_classificadores[identificacoes_treino[imagem]])"
   ]
  },
  {
   "attachments": {},
   "cell_type": "markdown",
   "metadata": {},
   "source": [
    "Normalização das imagens"
   ]
  },
  {
   "cell_type": "code",
   "execution_count": null,
   "metadata": {},
   "outputs": [],
   "source": [
    "imagens_treino = imagens_treino/float(255)\n",
    "# imagens_treino/255.0"
   ]
  },
  {
   "cell_type": "code",
   "execution_count": null,
   "metadata": {},
   "outputs": [],
   "source": [
    "modelo = keras.Sequential([\n",
    "    keras.layers.Flatten(input_shape=(28,28)),\n",
    "    keras.layers.Dense(256,activation=tensorflow.nn.relu),\n",
    "    keras.layers.Dropout(0.2),\n",
    "    # keras.layers.Dense(128,activation=tensorflow.nn.relu),\n",
    "    # keras.layers.Dense(64,activation=tensorflow.nn.relu),\n",
    "    keras.layers.Dense(10,activation=tensorflow.nn.softmax)\n",
    "    ])\n",
    "\n",
    "modelo.compile(optimizer='adam',\n",
    "               loss='sparse_categorical_crossentropy',\n",
    "               metrics=['accuracy'])\n",
    "\n",
    "#entropia categorica cruzada emparsa\n",
    "\n",
    "\n",
    "    # Entrada\n",
    "    # Processamento (ReLU) Rectified Linear Unit \n",
    "    # Saida\n",
    "\n",
    "\n",
    "historico = modelo.fit(imagens_treino,identificacoes_treino,epochs=5, validation_split=0.2)\n",
    "\n",
    "\n"
   ]
  },
  {
   "attachments": {},
   "cell_type": "markdown",
   "metadata": {},
   "source": [
    "Sumário do modelo"
   ]
  },
  {
   "cell_type": "code",
   "execution_count": null,
   "metadata": {},
   "outputs": [],
   "source": [
    "sumario_do_modelo = modelo.summary()"
   ]
  },
  {
   "attachments": {},
   "cell_type": "markdown",
   "metadata": {},
   "source": [
    "Pesos e vies da primera camada Dense"
   ]
  },
  {
   "cell_type": "code",
   "execution_count": 55,
   "metadata": {},
   "outputs": [
    {
     "data": {
      "text/plain": [
       "(784, 256)"
      ]
     },
     "execution_count": 55,
     "metadata": {},
     "output_type": "execute_result"
    }
   ],
   "source": [
    "pesos_camada_dense = np.array(modelo.layers[1].get_weights()[0])\n",
    "pesos_camada_dense.shape\n"
   ]
  },
  {
   "cell_type": "code",
   "execution_count": 59,
   "metadata": {},
   "outputs": [
    {
     "name": "stdout",
     "output_type": "stream",
     "text": [
      "Epoch 1/5\n",
      "1500/1500 [==============================] - 4s 3ms/step - loss: 0.5385 - accuracy: 0.8075 - val_loss: 0.4211 - val_accuracy: 0.8467\n",
      "Epoch 2/5\n",
      "1500/1500 [==============================] - 4s 2ms/step - loss: 0.4109 - accuracy: 0.8489 - val_loss: 0.3840 - val_accuracy: 0.8587\n",
      "Epoch 3/5\n",
      "1500/1500 [==============================] - 4s 2ms/step - loss: 0.3753 - accuracy: 0.8614 - val_loss: 0.3671 - val_accuracy: 0.8646\n",
      "Epoch 4/5\n",
      "1500/1500 [==============================] - 4s 2ms/step - loss: 0.3534 - accuracy: 0.8704 - val_loss: 0.3506 - val_accuracy: 0.8741\n",
      "Epoch 5/5\n",
      "1500/1500 [==============================] - 4s 2ms/step - loss: 0.3350 - accuracy: 0.8757 - val_loss: 0.3372 - val_accuracy: 0.8788\n"
     ]
    }
   ],
   "source": [
    "modelo.compile(optimizer='adam',\n",
    "               loss='sparse_categorical_crossentropy',\n",
    "               metrics=['accuracy'])\n",
    "historico = modelo.fit(imagens_treino,identificacoes_treino,epochs=5, validation_split=0.2)"
   ]
  },
  {
   "cell_type": "code",
   "execution_count": 60,
   "metadata": {},
   "outputs": [
    {
     "data": {
      "text/plain": [
       "<matplotlib.legend.Legend at 0x1d6b031ba90>"
      ]
     },
     "execution_count": 60,
     "metadata": {},
     "output_type": "execute_result"
    },
    {
     "data": {
      "image/png": "[encoded data removed]",
      "text/plain": [
       "<Figure size 640x480 with 1 Axes>"
      ]
     },
     "metadata": {},
     "output_type": "display_data"
    }
   ],
   "source": [
    "\n",
    "plt.plot(historico.history['accuracy'])\n",
    "plt.plot(historico.history['val_accuracy'])\n",
    "plt.title(\"Acuracia por épocas\")\n",
    "plt.xlabel('epocas')\n",
    "plt.ylabel(\"acurácia\")\n",
    "plt.legend(['Treino','Valiação'])"
   ]
  },
  {
   "cell_type": "code",
   "execution_count": 61,
   "metadata": {},
   "outputs": [
    {
     "data": {
      "text/plain": [
       "<matplotlib.legend.Legend at 0x1d6b03a5290>"
      ]
     },
     "execution_count": 61,
     "metadata": {},
     "output_type": "execute_result"
    },
    {
     "data": {
      "image/png": "[encoded data removed]",
      "text/plain": [
       "<Figure size 640x480 with 1 Axes>"
      ]
     },
     "metadata": {},
     "output_type": "display_data"
    }
   ],
   "source": [
    "plt.plot(historico.history['loss'])\n",
    "plt.plot(historico.history['val_loss'])\n",
    "plt.title(\"perda por épocas\")\n",
    "plt.xlabel('epocas')\n",
    "plt.ylabel(\"perda\")\n",
    "plt.legend(['Treino','Avaliação'])"
   ]
  },
  {
   "cell_type": "code",
   "execution_count": 57,
   "metadata": {},
   "outputs": [
    {
     "data": {
      "text/plain": [
       "(256,)"
      ]
     },
     "execution_count": 57,
     "metadata": {},
     "output_type": "execute_result"
    }
   ],
   "source": [
    "vieses_camada_dense = modelo.layers[1].get_weights()[1]\n",
    "vieses_camada_dense.shape"
   ]
  },
  {
   "cell_type": "code",
   "execution_count": 58,
   "metadata": {},
   "outputs": [],
   "source": [
    "pesos_camada_dense_zerados  = np.zeros((784,256))\n",
    "pesos_camada_dense_zerados\n",
    "modelo.layers[1].set_weights([pesos_camada_dense_zerados,vieses_camada_dense])"
   ]
  },
  {
   "attachments": {},
   "cell_type": "markdown",
   "metadata": {},
   "source": [
    "Salvando e carregando o modelo treinado"
   ]
  },
  {
   "cell_type": "code",
   "execution_count": null,
   "metadata": {},
   "outputs": [],
   "source": [
    "modelo.save('modelo.h5')\n",
    "modelo_salvo = load_model('modelo.h5')"
   ]
  },
  {
   "attachments": {},
   "cell_type": "markdown",
   "metadata": {},
   "source": [
    "Testes"
   ]
  },
  {
   "cell_type": "code",
   "execution_count": null,
   "metadata": {},
   "outputs": [],
   "source": [
    "\n",
    "plt.plot(historico.history['accuracy'])\n",
    "plt.plot(historico.history['val_accuracy'])\n",
    "plt.title(\"Acuracia por épocas\")\n",
    "plt.xlabel('epocas')\n",
    "plt.ylabel(\"acurácia\")\n",
    "plt.legend(['Treino','Valiação'])"
   ]
  },
  {
   "cell_type": "code",
   "execution_count": null,
   "metadata": {},
   "outputs": [],
   "source": [
    "plt.plot(historico.history['loss'])\n",
    "plt.plot(historico.history['val_loss'])\n",
    "plt.title(\"perda por épocas\")\n",
    "plt.xlabel('epocas')\n",
    "plt.ylabel(\"perda\")\n",
    "plt.legend(['Treino','Avaliação'])"
   ]
  },
  {
   "cell_type": "code",
   "execution_count": null,
   "metadata": {},
   "outputs": [],
   "source": [
    "historico.history"
   ]
  },
  {
   "cell_type": "code",
   "execution_count": null,
   "metadata": {},
   "outputs": [],
   "source": [
    "testes = modelo.predict(imagens_teste)\n",
    "print('resultado teste: %d' % np.argmax(testes[1]))\n",
    "print(\"número da iamgem de teste: %d\" % identificacoes_teste[1])\n"
   ]
  },
  {
   "cell_type": "code",
   "execution_count": null,
   "metadata": {},
   "outputs": [],
   "source": [
    "perda_teste , acuracia_teste = modelo.evaluate(imagens_teste,identificacoes_teste)\n",
    "print(\"Perda do teste : %f\" % perda_teste)\n",
    "print(\"Acuracia do teste %f\" % (acuracia_teste * 100))"
   ]
  },
  {
   "attachments": {},
   "cell_type": "markdown",
   "metadata": {},
   "source": [
    "testes com modelo salvo"
   ]
  },
  {
   "cell_type": "code",
   "execution_count": null,
   "metadata": {},
   "outputs": [],
   "source": [
    "testes = modelo_salvo.predict(imagens_teste)\n",
    "print('resultado teste: %d' % np.argmax(testes[1]))\n",
    "print(\"número da iamgem de teste: %d\" % identificacoes_teste[1])"
   ]
  }
 ],
 "metadata": {
  "kernelspec": {
   "display_name": "Python 3",
   "language": "python",
   "name": "python3"
  },
  "language_info": {
   "codemirror_mode": {
    "name": "ipython",
    "version": 3
   },
   "file_extension": ".py",
   "mimetype": "text/x-python",
   "name": "python",
   "nbconvert_exporter": "python",
   "pygments_lexer": "ipython3",
   "version": "3.11.3"
  },
  "orig_nbformat": 4
 },
 "nbformat": 4,
 "nbformat_minor": 2
}

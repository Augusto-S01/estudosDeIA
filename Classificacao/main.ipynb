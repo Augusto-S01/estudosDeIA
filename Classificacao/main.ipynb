{
 "cells": [
  {
   "cell_type": "code",
   "execution_count": 60,
   "metadata": {},
   "outputs": [
    {
     "data": {
      "text/html": [
       "<div>\n",
       "<style scoped>\n",
       "    .dataframe tbody tr th:only-of-type {\n",
       "        vertical-align: middle;\n",
       "    }\n",
       "\n",
       "    .dataframe tbody tr th {\n",
       "        vertical-align: top;\n",
       "    }\n",
       "\n",
       "    .dataframe thead th {\n",
       "        text-align: right;\n",
       "    }\n",
       "</style>\n",
       "<table border=\"1\" class=\"dataframe\">\n",
       "  <thead>\n",
       "    <tr style=\"text-align: right;\">\n",
       "      <th></th>\n",
       "      <th>Maior65Anos</th>\n",
       "      <th>Conjuge</th>\n",
       "      <th>Dependentes</th>\n",
       "      <th>MesesDeContrato</th>\n",
       "      <th>TelefoneFixo</th>\n",
       "      <th>VariasLinhasTelefonicas</th>\n",
       "      <th>ServicoDeInternet</th>\n",
       "      <th>SegurancaOnline</th>\n",
       "      <th>BackupOnline</th>\n",
       "      <th>SeguroNoDispositivo</th>\n",
       "      <th>SuporteTecnico</th>\n",
       "      <th>TVaCabo</th>\n",
       "      <th>StreamingDeFilmes</th>\n",
       "      <th>TipoDeContrato</th>\n",
       "      <th>PagamentoOnline</th>\n",
       "      <th>FormaDePagamento</th>\n",
       "      <th>ContaMensal</th>\n",
       "      <th>Churn</th>\n",
       "    </tr>\n",
       "  </thead>\n",
       "  <tbody>\n",
       "    <tr>\n",
       "      <th>0</th>\n",
       "      <td>0</td>\n",
       "      <td>Sim</td>\n",
       "      <td>Nao</td>\n",
       "      <td>1</td>\n",
       "      <td>Nao</td>\n",
       "      <td>SemServicoTelefonico</td>\n",
       "      <td>DSL</td>\n",
       "      <td>Nao</td>\n",
       "      <td>Sim</td>\n",
       "      <td>Nao</td>\n",
       "      <td>Nao</td>\n",
       "      <td>Nao</td>\n",
       "      <td>Nao</td>\n",
       "      <td>Mensalmente</td>\n",
       "      <td>Sim</td>\n",
       "      <td>ChequeDigital</td>\n",
       "      <td>29.85</td>\n",
       "      <td>Nao</td>\n",
       "    </tr>\n",
       "    <tr>\n",
       "      <th>1</th>\n",
       "      <td>0</td>\n",
       "      <td>Nao</td>\n",
       "      <td>Nao</td>\n",
       "      <td>34</td>\n",
       "      <td>Sim</td>\n",
       "      <td>Nao</td>\n",
       "      <td>DSL</td>\n",
       "      <td>Sim</td>\n",
       "      <td>Nao</td>\n",
       "      <td>Sim</td>\n",
       "      <td>Nao</td>\n",
       "      <td>Nao</td>\n",
       "      <td>Nao</td>\n",
       "      <td>UmAno</td>\n",
       "      <td>Nao</td>\n",
       "      <td>ChequePapel</td>\n",
       "      <td>56.95</td>\n",
       "      <td>Nao</td>\n",
       "    </tr>\n",
       "    <tr>\n",
       "      <th>2</th>\n",
       "      <td>0</td>\n",
       "      <td>Nao</td>\n",
       "      <td>Nao</td>\n",
       "      <td>2</td>\n",
       "      <td>Sim</td>\n",
       "      <td>Nao</td>\n",
       "      <td>DSL</td>\n",
       "      <td>Sim</td>\n",
       "      <td>Sim</td>\n",
       "      <td>Nao</td>\n",
       "      <td>Nao</td>\n",
       "      <td>Nao</td>\n",
       "      <td>Nao</td>\n",
       "      <td>Mensalmente</td>\n",
       "      <td>Sim</td>\n",
       "      <td>ChequePapel</td>\n",
       "      <td>53.85</td>\n",
       "      <td>Sim</td>\n",
       "    </tr>\n",
       "    <tr>\n",
       "      <th>3</th>\n",
       "      <td>0</td>\n",
       "      <td>Nao</td>\n",
       "      <td>Nao</td>\n",
       "      <td>45</td>\n",
       "      <td>Nao</td>\n",
       "      <td>SemServicoTelefonico</td>\n",
       "      <td>DSL</td>\n",
       "      <td>Sim</td>\n",
       "      <td>Nao</td>\n",
       "      <td>Sim</td>\n",
       "      <td>Sim</td>\n",
       "      <td>Nao</td>\n",
       "      <td>Nao</td>\n",
       "      <td>UmAno</td>\n",
       "      <td>Nao</td>\n",
       "      <td>DebitoEmConta</td>\n",
       "      <td>42.30</td>\n",
       "      <td>Nao</td>\n",
       "    </tr>\n",
       "    <tr>\n",
       "      <th>4</th>\n",
       "      <td>0</td>\n",
       "      <td>Nao</td>\n",
       "      <td>Nao</td>\n",
       "      <td>2</td>\n",
       "      <td>Sim</td>\n",
       "      <td>Nao</td>\n",
       "      <td>FibraOptica</td>\n",
       "      <td>Nao</td>\n",
       "      <td>Nao</td>\n",
       "      <td>Nao</td>\n",
       "      <td>Nao</td>\n",
       "      <td>Nao</td>\n",
       "      <td>Nao</td>\n",
       "      <td>Mensalmente</td>\n",
       "      <td>Sim</td>\n",
       "      <td>ChequeDigital</td>\n",
       "      <td>70.70</td>\n",
       "      <td>Sim</td>\n",
       "    </tr>\n",
       "  </tbody>\n",
       "</table>\n",
       "</div>"
      ],
      "text/plain": [
       "   Maior65Anos Conjuge Dependentes  MesesDeContrato TelefoneFixo   \n",
       "0            0     Sim         Nao                1          Nao  \\\n",
       "1            0     Nao         Nao               34          Sim   \n",
       "2            0     Nao         Nao                2          Sim   \n",
       "3            0     Nao         Nao               45          Nao   \n",
       "4            0     Nao         Nao                2          Sim   \n",
       "\n",
       "  VariasLinhasTelefonicas ServicoDeInternet SegurancaOnline BackupOnline   \n",
       "0    SemServicoTelefonico               DSL             Nao          Sim  \\\n",
       "1                     Nao               DSL             Sim          Nao   \n",
       "2                     Nao               DSL             Sim          Sim   \n",
       "3    SemServicoTelefonico               DSL             Sim          Nao   \n",
       "4                     Nao       FibraOptica             Nao          Nao   \n",
       "\n",
       "  SeguroNoDispositivo SuporteTecnico TVaCabo StreamingDeFilmes TipoDeContrato   \n",
       "0                 Nao            Nao     Nao               Nao    Mensalmente  \\\n",
       "1                 Sim            Nao     Nao               Nao          UmAno   \n",
       "2                 Nao            Nao     Nao               Nao    Mensalmente   \n",
       "3                 Sim            Sim     Nao               Nao          UmAno   \n",
       "4                 Nao            Nao     Nao               Nao    Mensalmente   \n",
       "\n",
       "  PagamentoOnline FormaDePagamento  ContaMensal Churn  \n",
       "0             Sim    ChequeDigital        29.85   Nao  \n",
       "1             Nao      ChequePapel        56.95   Nao  \n",
       "2             Sim      ChequePapel        53.85   Sim  \n",
       "3             Nao    DebitoEmConta        42.30   Nao  \n",
       "4             Sim    ChequeDigital        70.70   Sim  "
      ]
     },
     "execution_count": 60,
     "metadata": {},
     "output_type": "execute_result"
    }
   ],
   "source": [
    "import pandas as pd\n",
    "pd.set_option('display.max_columns',39)\n",
    "path = './dados.csv'\n",
    "dados = pd.read_csv(path)\n",
    "dados.head()"
   ]
  },
  {
   "attachments": {},
   "cell_type": "markdown",
   "metadata": {},
   "source": [
    "#variaveis categoricas\n",
    "-agrupamento por caracteristicas em comum\n",
    "-agrupamento por valores qualitativos\n",
    "\n",
    "#variaveis numericas\n",
    "-medida ou conjunto infinitos de valores"
   ]
  },
  {
   "attachments": {},
   "cell_type": "markdown",
   "metadata": {},
   "source": [
    "Maquinas aprende por números\n",
    "Classificar= transformar as informaçções dos valores categóricos em algo que a máquina possa aprender"
   ]
  },
  {
   "cell_type": "code",
   "execution_count": 61,
   "metadata": {},
   "outputs": [
    {
     "data": {
      "text/html": [
       "<div>\n",
       "<style scoped>\n",
       "    .dataframe tbody tr th:only-of-type {\n",
       "        vertical-align: middle;\n",
       "    }\n",
       "\n",
       "    .dataframe tbody tr th {\n",
       "        vertical-align: top;\n",
       "    }\n",
       "\n",
       "    .dataframe thead th {\n",
       "        text-align: right;\n",
       "    }\n",
       "</style>\n",
       "<table border=\"1\" class=\"dataframe\">\n",
       "  <thead>\n",
       "    <tr style=\"text-align: right;\">\n",
       "      <th></th>\n",
       "      <th>Conjuge</th>\n",
       "      <th>Dependentes</th>\n",
       "      <th>TelefoneFixo</th>\n",
       "      <th>PagamentoOnline</th>\n",
       "      <th>Churn</th>\n",
       "    </tr>\n",
       "  </thead>\n",
       "  <tbody>\n",
       "    <tr>\n",
       "      <th>0</th>\n",
       "      <td>1</td>\n",
       "      <td>0</td>\n",
       "      <td>0</td>\n",
       "      <td>1</td>\n",
       "      <td>0</td>\n",
       "    </tr>\n",
       "    <tr>\n",
       "      <th>1</th>\n",
       "      <td>0</td>\n",
       "      <td>0</td>\n",
       "      <td>1</td>\n",
       "      <td>0</td>\n",
       "      <td>0</td>\n",
       "    </tr>\n",
       "    <tr>\n",
       "      <th>2</th>\n",
       "      <td>0</td>\n",
       "      <td>0</td>\n",
       "      <td>1</td>\n",
       "      <td>1</td>\n",
       "      <td>1</td>\n",
       "    </tr>\n",
       "    <tr>\n",
       "      <th>3</th>\n",
       "      <td>0</td>\n",
       "      <td>0</td>\n",
       "      <td>0</td>\n",
       "      <td>0</td>\n",
       "      <td>0</td>\n",
       "    </tr>\n",
       "    <tr>\n",
       "      <th>4</th>\n",
       "      <td>0</td>\n",
       "      <td>0</td>\n",
       "      <td>1</td>\n",
       "      <td>1</td>\n",
       "      <td>1</td>\n",
       "    </tr>\n",
       "  </tbody>\n",
       "</table>\n",
       "</div>"
      ],
      "text/plain": [
       "   Conjuge  Dependentes  TelefoneFixo  PagamentoOnline  Churn\n",
       "0        1            0             0                1      0\n",
       "1        0            0             1                0      0\n",
       "2        0            0             1                1      1\n",
       "3        0            0             0                0      0\n",
       "4        0            0             1                1      1"
      ]
     },
     "execution_count": 61,
     "metadata": {},
     "output_type": "execute_result"
    }
   ],
   "source": [
    "#modificação de forma manual\n",
    "traducacao_dic = {\n",
    "    'Sim':1,\n",
    "    \"Nao\":0\n",
    "}\n",
    "dadosModificados = dados[['Conjuge','Dependentes','TelefoneFixo','PagamentoOnline','Churn']].replace(traducacao_dic)\n",
    "dadosModificados.head()"
   ]
  },
  {
   "cell_type": "code",
   "execution_count": 62,
   "metadata": {},
   "outputs": [
    {
     "data": {
      "text/html": [
       "<div>\n",
       "<style scoped>\n",
       "    .dataframe tbody tr th:only-of-type {\n",
       "        vertical-align: middle;\n",
       "    }\n",
       "\n",
       "    .dataframe tbody tr th {\n",
       "        vertical-align: top;\n",
       "    }\n",
       "\n",
       "    .dataframe thead th {\n",
       "        text-align: right;\n",
       "    }\n",
       "</style>\n",
       "<table border=\"1\" class=\"dataframe\">\n",
       "  <thead>\n",
       "    <tr style=\"text-align: right;\">\n",
       "      <th></th>\n",
       "      <th>VariasLinhasTelefonicas_Nao</th>\n",
       "      <th>VariasLinhasTelefonicas_SemServicoTelefonico</th>\n",
       "      <th>VariasLinhasTelefonicas_Sim</th>\n",
       "      <th>ServicoDeInternet_DSL</th>\n",
       "      <th>ServicoDeInternet_FibraOptica</th>\n",
       "      <th>ServicoDeInternet_Nao</th>\n",
       "      <th>SegurancaOnline_Nao</th>\n",
       "      <th>SegurancaOnline_SemServicoDeInternet</th>\n",
       "      <th>SegurancaOnline_Sim</th>\n",
       "      <th>BackupOnline_Nao</th>\n",
       "      <th>BackupOnline_SemServicoDeInternet</th>\n",
       "      <th>BackupOnline_Sim</th>\n",
       "      <th>SeguroNoDispositivo_Nao</th>\n",
       "      <th>SeguroNoDispositivo_SemServicoDeInternet</th>\n",
       "      <th>SeguroNoDispositivo_Sim</th>\n",
       "      <th>SeguroNoDispositivo_Nao</th>\n",
       "      <th>SeguroNoDispositivo_SemServicoDeInternet</th>\n",
       "      <th>SeguroNoDispositivo_Sim</th>\n",
       "      <th>SuporteTecnico_Nao</th>\n",
       "      <th>SuporteTecnico_SemServicoDeInternet</th>\n",
       "      <th>SuporteTecnico_Sim</th>\n",
       "      <th>TVaCabo_Nao</th>\n",
       "      <th>TVaCabo_SemServicoDeInternet</th>\n",
       "      <th>TVaCabo_Sim</th>\n",
       "      <th>StreamingDeFilmes_Nao</th>\n",
       "      <th>StreamingDeFilmes_SemServicoDeInternet</th>\n",
       "      <th>StreamingDeFilmes_Sim</th>\n",
       "      <th>TipoDeContrato_DoisAnos</th>\n",
       "      <th>TipoDeContrato_Mensalmente</th>\n",
       "      <th>TipoDeContrato_UmAno</th>\n",
       "      <th>FormaDePagamento_CartaoDeCredito</th>\n",
       "      <th>FormaDePagamento_ChequeDigital</th>\n",
       "      <th>FormaDePagamento_ChequePapel</th>\n",
       "      <th>FormaDePagamento_DebitoEmConta</th>\n",
       "    </tr>\n",
       "  </thead>\n",
       "  <tbody>\n",
       "    <tr>\n",
       "      <th>0</th>\n",
       "      <td>0</td>\n",
       "      <td>1</td>\n",
       "      <td>0</td>\n",
       "      <td>1</td>\n",
       "      <td>0</td>\n",
       "      <td>0</td>\n",
       "      <td>1</td>\n",
       "      <td>0</td>\n",
       "      <td>0</td>\n",
       "      <td>0</td>\n",
       "      <td>0</td>\n",
       "      <td>1</td>\n",
       "      <td>1</td>\n",
       "      <td>0</td>\n",
       "      <td>0</td>\n",
       "      <td>1</td>\n",
       "      <td>0</td>\n",
       "      <td>0</td>\n",
       "      <td>1</td>\n",
       "      <td>0</td>\n",
       "      <td>0</td>\n",
       "      <td>1</td>\n",
       "      <td>0</td>\n",
       "      <td>0</td>\n",
       "      <td>1</td>\n",
       "      <td>0</td>\n",
       "      <td>0</td>\n",
       "      <td>0</td>\n",
       "      <td>1</td>\n",
       "      <td>0</td>\n",
       "      <td>0</td>\n",
       "      <td>1</td>\n",
       "      <td>0</td>\n",
       "      <td>0</td>\n",
       "    </tr>\n",
       "    <tr>\n",
       "      <th>1</th>\n",
       "      <td>1</td>\n",
       "      <td>0</td>\n",
       "      <td>0</td>\n",
       "      <td>1</td>\n",
       "      <td>0</td>\n",
       "      <td>0</td>\n",
       "      <td>0</td>\n",
       "      <td>0</td>\n",
       "      <td>1</td>\n",
       "      <td>1</td>\n",
       "      <td>0</td>\n",
       "      <td>0</td>\n",
       "      <td>0</td>\n",
       "      <td>0</td>\n",
       "      <td>1</td>\n",
       "      <td>0</td>\n",
       "      <td>0</td>\n",
       "      <td>1</td>\n",
       "      <td>1</td>\n",
       "      <td>0</td>\n",
       "      <td>0</td>\n",
       "      <td>1</td>\n",
       "      <td>0</td>\n",
       "      <td>0</td>\n",
       "      <td>1</td>\n",
       "      <td>0</td>\n",
       "      <td>0</td>\n",
       "      <td>0</td>\n",
       "      <td>0</td>\n",
       "      <td>1</td>\n",
       "      <td>0</td>\n",
       "      <td>0</td>\n",
       "      <td>1</td>\n",
       "      <td>0</td>\n",
       "    </tr>\n",
       "    <tr>\n",
       "      <th>2</th>\n",
       "      <td>1</td>\n",
       "      <td>0</td>\n",
       "      <td>0</td>\n",
       "      <td>1</td>\n",
       "      <td>0</td>\n",
       "      <td>0</td>\n",
       "      <td>0</td>\n",
       "      <td>0</td>\n",
       "      <td>1</td>\n",
       "      <td>0</td>\n",
       "      <td>0</td>\n",
       "      <td>1</td>\n",
       "      <td>1</td>\n",
       "      <td>0</td>\n",
       "      <td>0</td>\n",
       "      <td>1</td>\n",
       "      <td>0</td>\n",
       "      <td>0</td>\n",
       "      <td>1</td>\n",
       "      <td>0</td>\n",
       "      <td>0</td>\n",
       "      <td>1</td>\n",
       "      <td>0</td>\n",
       "      <td>0</td>\n",
       "      <td>1</td>\n",
       "      <td>0</td>\n",
       "      <td>0</td>\n",
       "      <td>0</td>\n",
       "      <td>1</td>\n",
       "      <td>0</td>\n",
       "      <td>0</td>\n",
       "      <td>0</td>\n",
       "      <td>1</td>\n",
       "      <td>0</td>\n",
       "    </tr>\n",
       "    <tr>\n",
       "      <th>3</th>\n",
       "      <td>0</td>\n",
       "      <td>1</td>\n",
       "      <td>0</td>\n",
       "      <td>1</td>\n",
       "      <td>0</td>\n",
       "      <td>0</td>\n",
       "      <td>0</td>\n",
       "      <td>0</td>\n",
       "      <td>1</td>\n",
       "      <td>1</td>\n",
       "      <td>0</td>\n",
       "      <td>0</td>\n",
       "      <td>0</td>\n",
       "      <td>0</td>\n",
       "      <td>1</td>\n",
       "      <td>0</td>\n",
       "      <td>0</td>\n",
       "      <td>1</td>\n",
       "      <td>0</td>\n",
       "      <td>0</td>\n",
       "      <td>1</td>\n",
       "      <td>1</td>\n",
       "      <td>0</td>\n",
       "      <td>0</td>\n",
       "      <td>1</td>\n",
       "      <td>0</td>\n",
       "      <td>0</td>\n",
       "      <td>0</td>\n",
       "      <td>0</td>\n",
       "      <td>1</td>\n",
       "      <td>0</td>\n",
       "      <td>0</td>\n",
       "      <td>0</td>\n",
       "      <td>1</td>\n",
       "    </tr>\n",
       "    <tr>\n",
       "      <th>4</th>\n",
       "      <td>1</td>\n",
       "      <td>0</td>\n",
       "      <td>0</td>\n",
       "      <td>0</td>\n",
       "      <td>1</td>\n",
       "      <td>0</td>\n",
       "      <td>1</td>\n",
       "      <td>0</td>\n",
       "      <td>0</td>\n",
       "      <td>1</td>\n",
       "      <td>0</td>\n",
       "      <td>0</td>\n",
       "      <td>1</td>\n",
       "      <td>0</td>\n",
       "      <td>0</td>\n",
       "      <td>1</td>\n",
       "      <td>0</td>\n",
       "      <td>0</td>\n",
       "      <td>1</td>\n",
       "      <td>0</td>\n",
       "      <td>0</td>\n",
       "      <td>1</td>\n",
       "      <td>0</td>\n",
       "      <td>0</td>\n",
       "      <td>1</td>\n",
       "      <td>0</td>\n",
       "      <td>0</td>\n",
       "      <td>0</td>\n",
       "      <td>1</td>\n",
       "      <td>0</td>\n",
       "      <td>0</td>\n",
       "      <td>1</td>\n",
       "      <td>0</td>\n",
       "      <td>0</td>\n",
       "    </tr>\n",
       "  </tbody>\n",
       "</table>\n",
       "</div>"
      ],
      "text/plain": [
       "   VariasLinhasTelefonicas_Nao  VariasLinhasTelefonicas_SemServicoTelefonico   \n",
       "0                            0                                             1  \\\n",
       "1                            1                                             0   \n",
       "2                            1                                             0   \n",
       "3                            0                                             1   \n",
       "4                            1                                             0   \n",
       "\n",
       "   VariasLinhasTelefonicas_Sim  ServicoDeInternet_DSL   \n",
       "0                            0                      1  \\\n",
       "1                            0                      1   \n",
       "2                            0                      1   \n",
       "3                            0                      1   \n",
       "4                            0                      0   \n",
       "\n",
       "   ServicoDeInternet_FibraOptica  ServicoDeInternet_Nao  SegurancaOnline_Nao   \n",
       "0                              0                      0                    1  \\\n",
       "1                              0                      0                    0   \n",
       "2                              0                      0                    0   \n",
       "3                              0                      0                    0   \n",
       "4                              1                      0                    1   \n",
       "\n",
       "   SegurancaOnline_SemServicoDeInternet  SegurancaOnline_Sim   \n",
       "0                                     0                    0  \\\n",
       "1                                     0                    1   \n",
       "2                                     0                    1   \n",
       "3                                     0                    1   \n",
       "4                                     0                    0   \n",
       "\n",
       "   BackupOnline_Nao  BackupOnline_SemServicoDeInternet  BackupOnline_Sim   \n",
       "0                 0                                  0                 1  \\\n",
       "1                 1                                  0                 0   \n",
       "2                 0                                  0                 1   \n",
       "3                 1                                  0                 0   \n",
       "4                 1                                  0                 0   \n",
       "\n",
       "   SeguroNoDispositivo_Nao  SeguroNoDispositivo_SemServicoDeInternet   \n",
       "0                        1                                         0  \\\n",
       "1                        0                                         0   \n",
       "2                        1                                         0   \n",
       "3                        0                                         0   \n",
       "4                        1                                         0   \n",
       "\n",
       "   SeguroNoDispositivo_Sim  SeguroNoDispositivo_Nao   \n",
       "0                        0                        1  \\\n",
       "1                        1                        0   \n",
       "2                        0                        1   \n",
       "3                        1                        0   \n",
       "4                        0                        1   \n",
       "\n",
       "   SeguroNoDispositivo_SemServicoDeInternet  SeguroNoDispositivo_Sim   \n",
       "0                                         0                        0  \\\n",
       "1                                         0                        1   \n",
       "2                                         0                        0   \n",
       "3                                         0                        1   \n",
       "4                                         0                        0   \n",
       "\n",
       "   SuporteTecnico_Nao  SuporteTecnico_SemServicoDeInternet   \n",
       "0                   1                                    0  \\\n",
       "1                   1                                    0   \n",
       "2                   1                                    0   \n",
       "3                   0                                    0   \n",
       "4                   1                                    0   \n",
       "\n",
       "   SuporteTecnico_Sim  TVaCabo_Nao  TVaCabo_SemServicoDeInternet  TVaCabo_Sim   \n",
       "0                   0            1                             0            0  \\\n",
       "1                   0            1                             0            0   \n",
       "2                   0            1                             0            0   \n",
       "3                   1            1                             0            0   \n",
       "4                   0            1                             0            0   \n",
       "\n",
       "   StreamingDeFilmes_Nao  StreamingDeFilmes_SemServicoDeInternet   \n",
       "0                      1                                       0  \\\n",
       "1                      1                                       0   \n",
       "2                      1                                       0   \n",
       "3                      1                                       0   \n",
       "4                      1                                       0   \n",
       "\n",
       "   StreamingDeFilmes_Sim  TipoDeContrato_DoisAnos  TipoDeContrato_Mensalmente   \n",
       "0                      0                        0                           1  \\\n",
       "1                      0                        0                           0   \n",
       "2                      0                        0                           1   \n",
       "3                      0                        0                           0   \n",
       "4                      0                        0                           1   \n",
       "\n",
       "   TipoDeContrato_UmAno  FormaDePagamento_CartaoDeCredito   \n",
       "0                     0                                 0  \\\n",
       "1                     1                                 0   \n",
       "2                     0                                 0   \n",
       "3                     1                                 0   \n",
       "4                     0                                 0   \n",
       "\n",
       "   FormaDePagamento_ChequeDigital  FormaDePagamento_ChequePapel   \n",
       "0                               1                             0  \\\n",
       "1                               0                             1   \n",
       "2                               0                             1   \n",
       "3                               0                             0   \n",
       "4                               1                             0   \n",
       "\n",
       "   FormaDePagamento_DebitoEmConta  \n",
       "0                               0  \n",
       "1                               0  \n",
       "2                               0  \n",
       "3                               1  \n",
       "4                               0  "
      ]
     },
     "execution_count": 62,
     "metadata": {},
     "output_type": "execute_result"
    }
   ],
   "source": [
    "#transformação pelo get_dummies\n",
    "dummie_dados = pd.get_dummies(dados.drop(['Conjuge','Dependentes','TelefoneFixo','PagamentoOnline','Churn'],axis=1))\n",
    "dummie_dados = dummie_dados[['VariasLinhasTelefonicas_Nao','VariasLinhasTelefonicas_SemServicoTelefonico','VariasLinhasTelefonicas_Sim','ServicoDeInternet_DSL','ServicoDeInternet_FibraOptica','ServicoDeInternet_Nao','SegurancaOnline_Nao','SegurancaOnline_SemServicoDeInternet','SegurancaOnline_Sim','BackupOnline_Nao','BackupOnline_SemServicoDeInternet','BackupOnline_Sim','SeguroNoDispositivo_Nao','SeguroNoDispositivo_SemServicoDeInternet','SeguroNoDispositivo_Sim','SeguroNoDispositivo_Nao','SeguroNoDispositivo_SemServicoDeInternet','SeguroNoDispositivo_Sim','SuporteTecnico_Nao','SuporteTecnico_SemServicoDeInternet','SuporteTecnico_Sim','TVaCabo_Nao','TVaCabo_SemServicoDeInternet','TVaCabo_Sim','StreamingDeFilmes_Nao','StreamingDeFilmes_SemServicoDeInternet','StreamingDeFilmes_Sim','TipoDeContrato_DoisAnos','TipoDeContrato_Mensalmente','TipoDeContrato_UmAno','FormaDePagamento_CartaoDeCredito','FormaDePagamento_ChequeDigital','FormaDePagamento_ChequePapel','FormaDePagamento_DebitoEmConta']].replace({\n",
    "    False:0,\n",
    "    True:1\n",
    "})\n",
    "dummie_dados.head()\n",
    "\n"
   ]
  },
  {
   "cell_type": "code",
   "execution_count": 63,
   "metadata": {},
   "outputs": [
    {
     "data": {
      "text/html": [
       "<div>\n",
       "<style scoped>\n",
       "    .dataframe tbody tr th:only-of-type {\n",
       "        vertical-align: middle;\n",
       "    }\n",
       "\n",
       "    .dataframe tbody tr th {\n",
       "        vertical-align: top;\n",
       "    }\n",
       "\n",
       "    .dataframe thead th {\n",
       "        text-align: right;\n",
       "    }\n",
       "</style>\n",
       "<table border=\"1\" class=\"dataframe\">\n",
       "  <thead>\n",
       "    <tr style=\"text-align: right;\">\n",
       "      <th></th>\n",
       "      <th>Conjuge</th>\n",
       "      <th>Dependentes</th>\n",
       "      <th>TelefoneFixo</th>\n",
       "      <th>PagamentoOnline</th>\n",
       "      <th>Churn</th>\n",
       "      <th>VariasLinhasTelefonicas_Nao</th>\n",
       "      <th>VariasLinhasTelefonicas_SemServicoTelefonico</th>\n",
       "      <th>VariasLinhasTelefonicas_Sim</th>\n",
       "      <th>ServicoDeInternet_DSL</th>\n",
       "      <th>ServicoDeInternet_FibraOptica</th>\n",
       "      <th>ServicoDeInternet_Nao</th>\n",
       "      <th>SegurancaOnline_Nao</th>\n",
       "      <th>SegurancaOnline_SemServicoDeInternet</th>\n",
       "      <th>SegurancaOnline_Sim</th>\n",
       "      <th>BackupOnline_Nao</th>\n",
       "      <th>BackupOnline_SemServicoDeInternet</th>\n",
       "      <th>BackupOnline_Sim</th>\n",
       "      <th>SeguroNoDispositivo_Nao</th>\n",
       "      <th>SeguroNoDispositivo_SemServicoDeInternet</th>\n",
       "      <th>SeguroNoDispositivo_Sim</th>\n",
       "      <th>SeguroNoDispositivo_Nao</th>\n",
       "      <th>SeguroNoDispositivo_SemServicoDeInternet</th>\n",
       "      <th>SeguroNoDispositivo_Sim</th>\n",
       "      <th>SuporteTecnico_Nao</th>\n",
       "      <th>SuporteTecnico_SemServicoDeInternet</th>\n",
       "      <th>SuporteTecnico_Sim</th>\n",
       "      <th>TVaCabo_Nao</th>\n",
       "      <th>TVaCabo_SemServicoDeInternet</th>\n",
       "      <th>TVaCabo_Sim</th>\n",
       "      <th>StreamingDeFilmes_Nao</th>\n",
       "      <th>StreamingDeFilmes_SemServicoDeInternet</th>\n",
       "      <th>StreamingDeFilmes_Sim</th>\n",
       "      <th>TipoDeContrato_DoisAnos</th>\n",
       "      <th>TipoDeContrato_Mensalmente</th>\n",
       "      <th>TipoDeContrato_UmAno</th>\n",
       "      <th>FormaDePagamento_CartaoDeCredito</th>\n",
       "      <th>FormaDePagamento_ChequeDigital</th>\n",
       "      <th>FormaDePagamento_ChequePapel</th>\n",
       "      <th>FormaDePagamento_DebitoEmConta</th>\n",
       "    </tr>\n",
       "  </thead>\n",
       "  <tbody>\n",
       "    <tr>\n",
       "      <th>0</th>\n",
       "      <td>1</td>\n",
       "      <td>0</td>\n",
       "      <td>0</td>\n",
       "      <td>1</td>\n",
       "      <td>0</td>\n",
       "      <td>0</td>\n",
       "      <td>1</td>\n",
       "      <td>0</td>\n",
       "      <td>1</td>\n",
       "      <td>0</td>\n",
       "      <td>0</td>\n",
       "      <td>1</td>\n",
       "      <td>0</td>\n",
       "      <td>0</td>\n",
       "      <td>0</td>\n",
       "      <td>0</td>\n",
       "      <td>1</td>\n",
       "      <td>1</td>\n",
       "      <td>0</td>\n",
       "      <td>0</td>\n",
       "      <td>1</td>\n",
       "      <td>0</td>\n",
       "      <td>0</td>\n",
       "      <td>1</td>\n",
       "      <td>0</td>\n",
       "      <td>0</td>\n",
       "      <td>1</td>\n",
       "      <td>0</td>\n",
       "      <td>0</td>\n",
       "      <td>1</td>\n",
       "      <td>0</td>\n",
       "      <td>0</td>\n",
       "      <td>0</td>\n",
       "      <td>1</td>\n",
       "      <td>0</td>\n",
       "      <td>0</td>\n",
       "      <td>1</td>\n",
       "      <td>0</td>\n",
       "      <td>0</td>\n",
       "    </tr>\n",
       "    <tr>\n",
       "      <th>1</th>\n",
       "      <td>0</td>\n",
       "      <td>0</td>\n",
       "      <td>1</td>\n",
       "      <td>0</td>\n",
       "      <td>0</td>\n",
       "      <td>1</td>\n",
       "      <td>0</td>\n",
       "      <td>0</td>\n",
       "      <td>1</td>\n",
       "      <td>0</td>\n",
       "      <td>0</td>\n",
       "      <td>0</td>\n",
       "      <td>0</td>\n",
       "      <td>1</td>\n",
       "      <td>1</td>\n",
       "      <td>0</td>\n",
       "      <td>0</td>\n",
       "      <td>0</td>\n",
       "      <td>0</td>\n",
       "      <td>1</td>\n",
       "      <td>0</td>\n",
       "      <td>0</td>\n",
       "      <td>1</td>\n",
       "      <td>1</td>\n",
       "      <td>0</td>\n",
       "      <td>0</td>\n",
       "      <td>1</td>\n",
       "      <td>0</td>\n",
       "      <td>0</td>\n",
       "      <td>1</td>\n",
       "      <td>0</td>\n",
       "      <td>0</td>\n",
       "      <td>0</td>\n",
       "      <td>0</td>\n",
       "      <td>1</td>\n",
       "      <td>0</td>\n",
       "      <td>0</td>\n",
       "      <td>1</td>\n",
       "      <td>0</td>\n",
       "    </tr>\n",
       "    <tr>\n",
       "      <th>2</th>\n",
       "      <td>0</td>\n",
       "      <td>0</td>\n",
       "      <td>1</td>\n",
       "      <td>1</td>\n",
       "      <td>1</td>\n",
       "      <td>1</td>\n",
       "      <td>0</td>\n",
       "      <td>0</td>\n",
       "      <td>1</td>\n",
       "      <td>0</td>\n",
       "      <td>0</td>\n",
       "      <td>0</td>\n",
       "      <td>0</td>\n",
       "      <td>1</td>\n",
       "      <td>0</td>\n",
       "      <td>0</td>\n",
       "      <td>1</td>\n",
       "      <td>1</td>\n",
       "      <td>0</td>\n",
       "      <td>0</td>\n",
       "      <td>1</td>\n",
       "      <td>0</td>\n",
       "      <td>0</td>\n",
       "      <td>1</td>\n",
       "      <td>0</td>\n",
       "      <td>0</td>\n",
       "      <td>1</td>\n",
       "      <td>0</td>\n",
       "      <td>0</td>\n",
       "      <td>1</td>\n",
       "      <td>0</td>\n",
       "      <td>0</td>\n",
       "      <td>0</td>\n",
       "      <td>1</td>\n",
       "      <td>0</td>\n",
       "      <td>0</td>\n",
       "      <td>0</td>\n",
       "      <td>1</td>\n",
       "      <td>0</td>\n",
       "    </tr>\n",
       "    <tr>\n",
       "      <th>3</th>\n",
       "      <td>0</td>\n",
       "      <td>0</td>\n",
       "      <td>0</td>\n",
       "      <td>0</td>\n",
       "      <td>0</td>\n",
       "      <td>0</td>\n",
       "      <td>1</td>\n",
       "      <td>0</td>\n",
       "      <td>1</td>\n",
       "      <td>0</td>\n",
       "      <td>0</td>\n",
       "      <td>0</td>\n",
       "      <td>0</td>\n",
       "      <td>1</td>\n",
       "      <td>1</td>\n",
       "      <td>0</td>\n",
       "      <td>0</td>\n",
       "      <td>0</td>\n",
       "      <td>0</td>\n",
       "      <td>1</td>\n",
       "      <td>0</td>\n",
       "      <td>0</td>\n",
       "      <td>1</td>\n",
       "      <td>0</td>\n",
       "      <td>0</td>\n",
       "      <td>1</td>\n",
       "      <td>1</td>\n",
       "      <td>0</td>\n",
       "      <td>0</td>\n",
       "      <td>1</td>\n",
       "      <td>0</td>\n",
       "      <td>0</td>\n",
       "      <td>0</td>\n",
       "      <td>0</td>\n",
       "      <td>1</td>\n",
       "      <td>0</td>\n",
       "      <td>0</td>\n",
       "      <td>0</td>\n",
       "      <td>1</td>\n",
       "    </tr>\n",
       "    <tr>\n",
       "      <th>4</th>\n",
       "      <td>0</td>\n",
       "      <td>0</td>\n",
       "      <td>1</td>\n",
       "      <td>1</td>\n",
       "      <td>1</td>\n",
       "      <td>1</td>\n",
       "      <td>0</td>\n",
       "      <td>0</td>\n",
       "      <td>0</td>\n",
       "      <td>1</td>\n",
       "      <td>0</td>\n",
       "      <td>1</td>\n",
       "      <td>0</td>\n",
       "      <td>0</td>\n",
       "      <td>1</td>\n",
       "      <td>0</td>\n",
       "      <td>0</td>\n",
       "      <td>1</td>\n",
       "      <td>0</td>\n",
       "      <td>0</td>\n",
       "      <td>1</td>\n",
       "      <td>0</td>\n",
       "      <td>0</td>\n",
       "      <td>1</td>\n",
       "      <td>0</td>\n",
       "      <td>0</td>\n",
       "      <td>1</td>\n",
       "      <td>0</td>\n",
       "      <td>0</td>\n",
       "      <td>1</td>\n",
       "      <td>0</td>\n",
       "      <td>0</td>\n",
       "      <td>0</td>\n",
       "      <td>1</td>\n",
       "      <td>0</td>\n",
       "      <td>0</td>\n",
       "      <td>1</td>\n",
       "      <td>0</td>\n",
       "      <td>0</td>\n",
       "    </tr>\n",
       "  </tbody>\n",
       "</table>\n",
       "</div>"
      ],
      "text/plain": [
       "   Conjuge  Dependentes  TelefoneFixo  PagamentoOnline  Churn   \n",
       "0        1            0             0                1      0  \\\n",
       "1        0            0             1                0      0   \n",
       "2        0            0             1                1      1   \n",
       "3        0            0             0                0      0   \n",
       "4        0            0             1                1      1   \n",
       "\n",
       "   VariasLinhasTelefonicas_Nao  VariasLinhasTelefonicas_SemServicoTelefonico   \n",
       "0                            0                                             1  \\\n",
       "1                            1                                             0   \n",
       "2                            1                                             0   \n",
       "3                            0                                             1   \n",
       "4                            1                                             0   \n",
       "\n",
       "   VariasLinhasTelefonicas_Sim  ServicoDeInternet_DSL   \n",
       "0                            0                      1  \\\n",
       "1                            0                      1   \n",
       "2                            0                      1   \n",
       "3                            0                      1   \n",
       "4                            0                      0   \n",
       "\n",
       "   ServicoDeInternet_FibraOptica  ServicoDeInternet_Nao  SegurancaOnline_Nao   \n",
       "0                              0                      0                    1  \\\n",
       "1                              0                      0                    0   \n",
       "2                              0                      0                    0   \n",
       "3                              0                      0                    0   \n",
       "4                              1                      0                    1   \n",
       "\n",
       "   SegurancaOnline_SemServicoDeInternet  SegurancaOnline_Sim   \n",
       "0                                     0                    0  \\\n",
       "1                                     0                    1   \n",
       "2                                     0                    1   \n",
       "3                                     0                    1   \n",
       "4                                     0                    0   \n",
       "\n",
       "   BackupOnline_Nao  BackupOnline_SemServicoDeInternet  BackupOnline_Sim   \n",
       "0                 0                                  0                 1  \\\n",
       "1                 1                                  0                 0   \n",
       "2                 0                                  0                 1   \n",
       "3                 1                                  0                 0   \n",
       "4                 1                                  0                 0   \n",
       "\n",
       "   SeguroNoDispositivo_Nao  SeguroNoDispositivo_SemServicoDeInternet   \n",
       "0                        1                                         0  \\\n",
       "1                        0                                         0   \n",
       "2                        1                                         0   \n",
       "3                        0                                         0   \n",
       "4                        1                                         0   \n",
       "\n",
       "   SeguroNoDispositivo_Sim  SeguroNoDispositivo_Nao   \n",
       "0                        0                        1  \\\n",
       "1                        1                        0   \n",
       "2                        0                        1   \n",
       "3                        1                        0   \n",
       "4                        0                        1   \n",
       "\n",
       "   SeguroNoDispositivo_SemServicoDeInternet  SeguroNoDispositivo_Sim   \n",
       "0                                         0                        0  \\\n",
       "1                                         0                        1   \n",
       "2                                         0                        0   \n",
       "3                                         0                        1   \n",
       "4                                         0                        0   \n",
       "\n",
       "   SuporteTecnico_Nao  SuporteTecnico_SemServicoDeInternet   \n",
       "0                   1                                    0  \\\n",
       "1                   1                                    0   \n",
       "2                   1                                    0   \n",
       "3                   0                                    0   \n",
       "4                   1                                    0   \n",
       "\n",
       "   SuporteTecnico_Sim  TVaCabo_Nao  TVaCabo_SemServicoDeInternet  TVaCabo_Sim   \n",
       "0                   0            1                             0            0  \\\n",
       "1                   0            1                             0            0   \n",
       "2                   0            1                             0            0   \n",
       "3                   1            1                             0            0   \n",
       "4                   0            1                             0            0   \n",
       "\n",
       "   StreamingDeFilmes_Nao  StreamingDeFilmes_SemServicoDeInternet   \n",
       "0                      1                                       0  \\\n",
       "1                      1                                       0   \n",
       "2                      1                                       0   \n",
       "3                      1                                       0   \n",
       "4                      1                                       0   \n",
       "\n",
       "   StreamingDeFilmes_Sim  TipoDeContrato_DoisAnos  TipoDeContrato_Mensalmente   \n",
       "0                      0                        0                           1  \\\n",
       "1                      0                        0                           0   \n",
       "2                      0                        0                           1   \n",
       "3                      0                        0                           0   \n",
       "4                      0                        0                           1   \n",
       "\n",
       "   TipoDeContrato_UmAno  FormaDePagamento_CartaoDeCredito   \n",
       "0                     0                                 0  \\\n",
       "1                     1                                 0   \n",
       "2                     0                                 0   \n",
       "3                     1                                 0   \n",
       "4                     0                                 0   \n",
       "\n",
       "   FormaDePagamento_ChequeDigital  FormaDePagamento_ChequePapel   \n",
       "0                               1                             0  \\\n",
       "1                               0                             1   \n",
       "2                               0                             1   \n",
       "3                               0                             0   \n",
       "4                               1                             0   \n",
       "\n",
       "   FormaDePagamento_DebitoEmConta  \n",
       "0                               0  \n",
       "1                               0  \n",
       "2                               0  \n",
       "3                               1  \n",
       "4                               0  "
      ]
     },
     "execution_count": 63,
     "metadata": {},
     "output_type": "execute_result"
    }
   ],
   "source": [
    "#junção dos dados transformados com os que ja tinhamos\n",
    "dados_final = pd.concat([dadosModificados,dummie_dados],axis=1)\n",
    "dados_final.head()\n"
   ]
  },
  {
   "cell_type": "code",
   "execution_count": 64,
   "metadata": {},
   "outputs": [],
   "source": [
    "Xmaria = [[0,0,1,1,0,0,39.90,1,0,0,0,1,0,1,0,0,0,0,1,1,1,0,0,1,0,1,0,0,0,0,1,0,0,1,0,0,0,1]]\n"
   ]
  },
  {
   "attachments": {},
   "cell_type": "markdown",
   "metadata": {},
   "source": [
    "KNN (K-nearest Neighbors)\n",
    "Algoritmo de machine learning supervisionado. pode ser usado para tarefas de classificação ou regressão\n",
    "1.Receber as informações\n",
    "2.Calcular as distancias\n",
    "3.ordenar da menor distancia para a maior\n",
    "4.fazer uma contagem das classes\n",
    "5.Classificar a partir dos k-vizinhos\n",
    "6.definir o churn"
   ]
  },
  {
   "cell_type": "code",
   "execution_count": 65,
   "metadata": {},
   "outputs": [],
   "source": [
    "X=dados_final.drop('Churn',axis=1)\n",
    "Y=dados_final['Churn']"
   ]
  },
  {
   "cell_type": "code",
   "execution_count": 66,
   "metadata": {},
   "outputs": [
    {
     "data": {
      "text/plain": [
       "array([ 1.03453023, -0.65401193, -3.05401039,  0.8297975 , -0.96332984,\n",
       "        3.05401039, -0.85417615,  1.38171215, -0.88565976, -0.52592737,\n",
       "        1.00669571, -0.52592737, -0.63393298, -0.88361972, -0.52592737,\n",
       "        1.3782406 ,  1.12942721, -0.52592737, -0.72396752,  1.12942721,\n",
       "       -0.52592737, -0.72396752,  1.0138687 , -0.52592737, -0.63943864,\n",
       "        1.2273572 , -0.52592737, -0.79013171,  1.23648892, -0.52592737,\n",
       "       -0.79607014, -0.56297505,  0.90418382, -0.51424938, -0.52504733,\n",
       "        1.40641839, -0.54480692, -0.5298852 ])"
      ]
     },
     "execution_count": 66,
     "metadata": {},
     "output_type": "execute_result"
    }
   ],
   "source": [
    "from sklearn.preprocessing import StandardScaler\n",
    "norm = StandardScaler()\n",
    "X_normalizado = norm.fit_transform(X)\n",
    "X_normalizado[0]"
   ]
  },
  {
   "cell_type": "code",
   "execution_count": 67,
   "metadata": {},
   "outputs": [
    {
     "data": {
      "text/plain": [
       "array([[-0.96662231, -0.65401193,  0.32743831,  0.8297975 , -0.96332984,\n",
       "        -0.32743831, 79.93912874,  1.38171215, -0.88565976, -0.52592737,\n",
       "        -0.99334883,  1.90140322, -0.63393298,  1.13170855, -0.52592737,\n",
       "        -0.72556272, -0.88540456, -0.52592737,  1.38127743,  1.12942721,\n",
       "         1.90140322, -0.72396752, -0.98632101,  1.90140322, -0.63943864,\n",
       "         1.2273572 , -0.52592737, -0.79013171, -0.80874158, -0.52592737,\n",
       "         1.25617071, -0.56297505, -1.1059698 ,  1.94458183, -0.52504733,\n",
       "        -0.71102597, -0.54480692,  1.88720123]])"
      ]
     },
     "execution_count": 67,
     "metadata": {},
     "output_type": "execute_result"
    }
   ],
   "source": [
    "Xmaria_normalizado = norm.transform(pd.DataFrame(Xmaria,columns=X.columns))\n",
    "Xmaria_normalizado"
   ]
  },
  {
   "cell_type": "code",
   "execution_count": 68,
   "metadata": {
    "tags": []
   },
   "outputs": [],
   "source": [
    "import numpy as np"
   ]
  },
  {
   "cell_type": "code",
   "execution_count": 69,
   "metadata": {},
   "outputs": [],
   "source": [
    "a = Xmaria_normalizado"
   ]
  },
  {
   "cell_type": "code",
   "execution_count": 70,
   "metadata": {},
   "outputs": [],
   "source": [
    "b = X_normalizado[0]"
   ]
  },
  {
   "cell_type": "code",
   "execution_count": 71,
   "metadata": {},
   "outputs": [
    {
     "data": {
      "text/plain": [
       "array([[-2.00115254,  0.        ,  3.3814487 ,  0.        ,  0.        ,\n",
       "        -3.3814487 , 80.79330489,  0.        ,  0.        ,  0.        ,\n",
       "        -2.00004453,  2.42733059,  0.        ,  2.01532828,  0.        ,\n",
       "        -2.10380332, -2.01483177,  0.        ,  2.10524495,  0.        ,\n",
       "         2.42733059,  0.        , -2.00018971,  2.42733059,  0.        ,\n",
       "         0.        ,  0.        ,  0.        , -2.0452305 ,  0.        ,\n",
       "         2.05224086,  0.        , -2.01015362,  2.45883121,  0.        ,\n",
       "        -2.11744436,  0.        ,  2.41708643]])"
      ]
     },
     "execution_count": 71,
     "metadata": {},
     "output_type": "execute_result"
    }
   ],
   "source": [
    "a - b"
   ]
  },
  {
   "cell_type": "code",
   "execution_count": 72,
   "metadata": {},
   "outputs": [
    {
     "data": {
      "text/plain": [
       "array([[4.00461149e+00, 0.00000000e+00, 1.14341953e+01, 0.00000000e+00,\n",
       "        0.00000000e+00, 1.14341953e+01, 6.52755811e+03, 0.00000000e+00,\n",
       "        0.00000000e+00, 0.00000000e+00, 4.00017814e+00, 5.89193381e+00,\n",
       "        0.00000000e+00, 4.06154807e+00, 0.00000000e+00, 4.42598840e+00,\n",
       "        4.05954705e+00, 0.00000000e+00, 4.43205631e+00, 0.00000000e+00,\n",
       "        5.89193381e+00, 0.00000000e+00, 4.00075888e+00, 5.89193381e+00,\n",
       "        0.00000000e+00, 0.00000000e+00, 0.00000000e+00, 0.00000000e+00,\n",
       "        4.18296779e+00, 0.00000000e+00, 4.21169253e+00, 0.00000000e+00,\n",
       "        4.04071758e+00, 6.04585093e+00, 0.00000000e+00, 4.48357062e+00,\n",
       "        0.00000000e+00, 5.84230682e+00]])"
      ]
     },
     "execution_count": 72,
     "metadata": {},
     "output_type": "execute_result"
    }
   ],
   "source": [
    "np.square(a-b)"
   ]
  },
  {
   "cell_type": "code",
   "execution_count": 73,
   "metadata": {},
   "outputs": [
    {
     "data": {
      "text/plain": [
       "6625.894101359011"
      ]
     },
     "execution_count": 73,
     "metadata": {},
     "output_type": "execute_result"
    }
   ],
   "source": [
    "np.sum(np.square(a-b))"
   ]
  },
  {
   "cell_type": "code",
   "execution_count": 74,
   "metadata": {},
   "outputs": [
    {
     "data": {
      "text/plain": [
       "81.3995952161865"
      ]
     },
     "execution_count": 74,
     "metadata": {},
     "output_type": "execute_result"
    }
   ],
   "source": [
    "np.sqrt(6625.894101359011)"
   ]
  },
  {
   "cell_type": "code",
   "execution_count": 75,
   "metadata": {},
   "outputs": [],
   "source": [
    "from sklearn.model_selection import train_test_split\n",
    "X_treino, X_teste, Y_treino, Y_teste = train_test_split(X_normalizado,Y,test_size=0.3,random_state=123)"
   ]
  },
  {
   "cell_type": "code",
   "execution_count": 76,
   "metadata": {},
   "outputs": [
    {
     "data": {
      "text/plain": [
       "array([0, 0, 0, ..., 0, 1, 0], dtype=int64)"
      ]
     },
     "execution_count": 76,
     "metadata": {},
     "output_type": "execute_result"
    }
   ],
   "source": [
    "from sklearn.neighbors import KNeighborsClassifier\n",
    "knn = KNeighborsClassifier(metric='euclidean')\n",
    "knn.fit(X_treino,Y_treino)\n",
    "predito_knn = knn.predict(X_teste)\n",
    "predito_knn"
   ]
  },
  {
   "attachments": {},
   "cell_type": "markdown",
   "metadata": {},
   "source": [
    "Teorema de naive Bayer\n",
    "\n",
    "modelo bernoulli naive bayes\n",
    "$$\n",
    "\\begin{equation}\n",
    "    \\begin{aligned}\n",
    "       P(y|X) = \\frac{P(X|y) * P(y)}{P(x)} \\\\\n",
    "       \\\\\n",
    "        P(y|X) &= \\text{é a verosimilhança, mede a probabilidade de uma caracteristica acontecer} \\\\\n",
    "        P(y) &= \\text{probabilidade a priori da classe , prevalença da classe sobre a amostra ( no exemplo atual , qual a chance do churn ser igual a não? )} \\\\\n",
    "        P(X) &= \\text{probabilidade a priori da evidencia} \\\\\n",
    "        P(y|X) &= \\text{probabilidade a posteriori} \\\\\n",
    "\n",
    "    \\end{aligned}\n",
    "\\end{equation}\n",
    "\n",
    "$$\n"
   ]
  },
  {
   "attachments": {},
   "cell_type": "markdown",
   "metadata": {},
   "source": [
    "\n",
    "$$\n",
    "\\begin{aligned}\n",
    "    P(X) &= \\text{ 0.0015 , ou seja a probabilidade da caracteristica \"dependentes\" ser igual a não é 0.015} \\\\\n",
    "    P(y) &= \\text{ 0.14 , ou seja a probabilidade de um churn igual a não} \\\\\n",
    "    P(X|y) &= \\text{ 0.006 , a probabilidade de X dado que Y ocorreu , ou seja a probabilidade de ter um depententes igual a não sendo que o churn é igual a não}\\\\\n",
    "    P(y|X) &= \\text{? , qual a probabilidade de se ter um churn igual a não sendo que ela tem dependentes igual a não}\\\\\n",
    "\\end{aligned}\n",
    "$$\n",
    "\n",
    "\n",
    "\n",
    "$$\n",
    "    \\begin{equation}\n",
    "            P(y|X) = \\frac{0.006 * 0.14}{0.0015} \\\\\n",
    "            \\\\\n",
    "            P(y|X) = 0.056 = 5,6%\\\\\n",
    "    \\end{equation}\n",
    "$$\n",
    "\n"
   ]
  },
  {
   "attachments": {},
   "cell_type": "markdown",
   "metadata": {},
   "source": [
    "multivariada de bernouli\n",
    "\n",
    "$$\n",
    "  \\begin{equation}\n",
    "    \\begin{aligned}\n",
    "       P(X_{i}|y) = P(i|y)x_{i} + (1 - P(i|y)) (1 - x_{i})  \\\\\n",
    "       \\\\\n",
    "        P(i|Y) &= \\text{parametro p da distribuição de bernouli | probabilidade de i dado que Y ocorreu} \\\\\n",
    "        P(X_{i}) &= \\text{conjunto de caracteristicas , no caso temos 38} \\\\\n",
    "    \\end{aligned}\n",
    "  \\end{equation}\n",
    "\n",
    "$$"
   ]
  },
  {
   "cell_type": "code",
   "execution_count": 77,
   "metadata": {},
   "outputs": [
    {
     "data": {
      "text/plain": [
       "array([[-0.96662231, -0.65401193, -3.05401039, ...,  1.40641839,\n",
       "        -0.54480692, -0.5298852 ],\n",
       "       [-0.96662231,  1.5290241 ,  0.32743831, ...,  1.40641839,\n",
       "        -0.54480692, -0.5298852 ],\n",
       "       [-0.96662231, -0.65401193,  0.32743831, ..., -0.71102597,\n",
       "         1.83551265, -0.5298852 ],\n",
       "       ...,\n",
       "       [ 1.03453023,  1.5290241 ,  0.32743831, ...,  1.40641839,\n",
       "        -0.54480692, -0.5298852 ],\n",
       "       [ 1.03453023,  1.5290241 , -3.05401039, ..., -0.71102597,\n",
       "         1.83551265, -0.5298852 ],\n",
       "       [-0.96662231, -0.65401193,  0.32743831, ...,  1.40641839,\n",
       "        -0.54480692, -0.5298852 ]])"
      ]
     },
     "execution_count": 77,
     "metadata": {},
     "output_type": "execute_result"
    }
   ],
   "source": [
    "\n",
    "X_treino"
   ]
  },
  {
   "cell_type": "code",
   "execution_count": 78,
   "metadata": {},
   "outputs": [
    {
     "data": {
      "text/plain": [
       "1479    0\n",
       "2377    0\n",
       "6613    0\n",
       "6468    0\n",
       "2668    1\n",
       "       ..\n",
       "5218    0\n",
       "4060    0\n",
       "1346    1\n",
       "3454    0\n",
       "3582    0\n",
       "Name: Churn, Length: 4930, dtype: int64"
      ]
     },
     "execution_count": 78,
     "metadata": {},
     "output_type": "execute_result"
    }
   ],
   "source": [
    "Y_treino"
   ]
  },
  {
   "cell_type": "code",
   "execution_count": 79,
   "metadata": {},
   "outputs": [
    {
     "data": {
      "text/plain": [
       "-0.5259273725834717"
      ]
     },
     "execution_count": 79,
     "metadata": {},
     "output_type": "execute_result"
    }
   ],
   "source": [
    "#escolher usar  mediana\n",
    "np.median(X_treino)"
   ]
  },
  {
   "cell_type": "code",
   "execution_count": 80,
   "metadata": {},
   "outputs": [
    {
     "data": {
      "text/plain": [
       "array([1, 0, 0, ..., 0, 1, 0], dtype=int64)"
      ]
     },
     "execution_count": 80,
     "metadata": {},
     "output_type": "execute_result"
    }
   ],
   "source": [
    "from sklearn.naive_bayes import BernoulliNB\n",
    "bnb = BernoulliNB(binarize=0.52)\n",
    "bnb.fit(X_treino,Y_treino)\n",
    "predito_bnb = bnb.predict(X_teste)\n",
    "predito_bnb"
   ]
  },
  {
   "attachments": {},
   "cell_type": "markdown",
   "metadata": {},
   "source": [
    "Criterios de divisão de nós\n",
    "\n",
    "Indice Gini\n",
    "Qui-Quadrado\n",
    "Ganho da informação ( entropia )\n",
    "Redução na variância"
   ]
  },
  {
   "attachments": {},
   "cell_type": "markdown",
   "metadata": {},
   "source": [
    "\n",
    "\n",
    "Indice gine\n",
    "\n",
    "$$\n",
    "\\begin{equation}\n",
    "    \\begin{aligned}\n",
    "        G(node) = \\sum_{c}^{k=1}p_{k} ( 1 - p_{k}  )\\\\\n",
    "       \\\\\n",
    "        G(node) &= \\text{indice gine} \\\\\n",
    "        1-p_{k} &= \\text{probabilidade de NAO ocorrencia de um dado da classe k} \\\\\n",
    "        p_{k} &= \\text{Probabilidade de ocorrencia de um dado da classe k} \\\\\n",
    "\n",
    "    \\end{aligned}\n",
    "\\end{equation}\n",
    "$$"
   ]
  },
  {
   "attachments": {},
   "cell_type": "markdown",
   "metadata": {},
   "source": [
    "Entropia\n",
    "\n",
    "$$\n",
    "\\begin{equation}\n",
    "    \\begin{aligned}\n",
    "        Entropy(node) = \\sum_{i=1}^{c}p_{k} log(p_{k})\\\\\n",
    "       \\\\\n",
    "        Entropy(node) &= \\text{quanto maior , mais desordenado o dado} \\\\\n",
    "        p_{k} &= \\text{Probabilidade de ocorrencia de um dado da classe k} \\\\\n",
    "\n",
    "    \\end{aligned}\n",
    "\\end{equation}\n",
    "$$\n",
    "    "
   ]
  },
  {
   "cell_type": "code",
   "execution_count": 81,
   "metadata": {},
   "outputs": [
    {
     "data": {
      "text/html": [
       "<style>#sk-container-id-3 {color: black;background-color: white;}#sk-container-id-3 pre{padding: 0;}#sk-container-id-3 div.sk-toggleable {background-color: white;}#sk-container-id-3 label.sk-toggleable__label {cursor: pointer;display: block;width: 100%;margin-bottom: 0;padding: 0.3em;box-sizing: border-box;text-align: center;}#sk-container-id-3 label.sk-toggleable__label-arrow:before {content: \"▸\";float: left;margin-right: 0.25em;color: #696969;}#sk-container-id-3 label.sk-toggleable__label-arrow:hover:before {color: black;}#sk-container-id-3 div.sk-estimator:hover label.sk-toggleable__label-arrow:before {color: black;}#sk-container-id-3 div.sk-toggleable__content {max-height: 0;max-width: 0;overflow: hidden;text-align: left;background-color: #f0f8ff;}#sk-container-id-3 div.sk-toggleable__content pre {margin: 0.2em;color: black;border-radius: 0.25em;background-color: #f0f8ff;}#sk-container-id-3 input.sk-toggleable__control:checked~div.sk-toggleable__content {max-height: 200px;max-width: 100%;overflow: auto;}#sk-container-id-3 input.sk-toggleable__control:checked~label.sk-toggleable__label-arrow:before {content: \"▾\";}#sk-container-id-3 div.sk-estimator input.sk-toggleable__control:checked~label.sk-toggleable__label {background-color: #d4ebff;}#sk-container-id-3 div.sk-label input.sk-toggleable__control:checked~label.sk-toggleable__label {background-color: #d4ebff;}#sk-container-id-3 input.sk-hidden--visually {border: 0;clip: rect(1px 1px 1px 1px);clip: rect(1px, 1px, 1px, 1px);height: 1px;margin: -1px;overflow: hidden;padding: 0;position: absolute;width: 1px;}#sk-container-id-3 div.sk-estimator {font-family: monospace;background-color: #f0f8ff;border: 1px dotted black;border-radius: 0.25em;box-sizing: border-box;margin-bottom: 0.5em;}#sk-container-id-3 div.sk-estimator:hover {background-color: #d4ebff;}#sk-container-id-3 div.sk-parallel-item::after {content: \"\";width: 100%;border-bottom: 1px solid gray;flex-grow: 1;}#sk-container-id-3 div.sk-label:hover label.sk-toggleable__label {background-color: #d4ebff;}#sk-container-id-3 div.sk-serial::before {content: \"\";position: absolute;border-left: 1px solid gray;box-sizing: border-box;top: 0;bottom: 0;left: 50%;z-index: 0;}#sk-container-id-3 div.sk-serial {display: flex;flex-direction: column;align-items: center;background-color: white;padding-right: 0.2em;padding-left: 0.2em;position: relative;}#sk-container-id-3 div.sk-item {position: relative;z-index: 1;}#sk-container-id-3 div.sk-parallel {display: flex;align-items: stretch;justify-content: center;background-color: white;position: relative;}#sk-container-id-3 div.sk-item::before, #sk-container-id-3 div.sk-parallel-item::before {content: \"\";position: absolute;border-left: 1px solid gray;box-sizing: border-box;top: 0;bottom: 0;left: 50%;z-index: -1;}#sk-container-id-3 div.sk-parallel-item {display: flex;flex-direction: column;z-index: 1;position: relative;background-color: white;}#sk-container-id-3 div.sk-parallel-item:first-child::after {align-self: flex-end;width: 50%;}#sk-container-id-3 div.sk-parallel-item:last-child::after {align-self: flex-start;width: 50%;}#sk-container-id-3 div.sk-parallel-item:only-child::after {width: 0;}#sk-container-id-3 div.sk-dashed-wrapped {border: 1px dashed gray;margin: 0 0.4em 0.5em 0.4em;box-sizing: border-box;padding-bottom: 0.4em;background-color: white;}#sk-container-id-3 div.sk-label label {font-family: monospace;font-weight: bold;display: inline-block;line-height: 1.2em;}#sk-container-id-3 div.sk-label-container {text-align: center;}#sk-container-id-3 div.sk-container {/* jupyter's `normalize.less` sets `[hidden] { display: none; }` but bootstrap.min.css set `[hidden] { display: none !important; }` so we also need the `!important` here to be able to override the default hidden behavior on the sphinx rendered scikit-learn.org. See: https://github.com/scikit-learn/scikit-learn/issues/21755 */display: inline-block !important;position: relative;}#sk-container-id-3 div.sk-text-repr-fallback {display: none;}</style><div id=\"sk-container-id-3\" class=\"sk-top-container\"><div class=\"sk-text-repr-fallback\"><pre>DecisionTreeClassifier(criterion=&#x27;entropy&#x27;, random_state=42)</pre><b>In a Jupyter environment, please rerun this cell to show the HTML representation or trust the notebook. <br />On GitHub, the HTML representation is unable to render, please try loading this page with nbviewer.org.</b></div><div class=\"sk-container\" hidden><div class=\"sk-item\"><div class=\"sk-estimator sk-toggleable\"><input class=\"sk-toggleable__control sk-hidden--visually\" id=\"sk-estimator-id-3\" type=\"checkbox\" checked><label for=\"sk-estimator-id-3\" class=\"sk-toggleable__label sk-toggleable__label-arrow\">DecisionTreeClassifier</label><div class=\"sk-toggleable__content\"><pre>DecisionTreeClassifier(criterion=&#x27;entropy&#x27;, random_state=42)</pre></div></div></div></div></div>"
      ],
      "text/plain": [
       "DecisionTreeClassifier(criterion='entropy', random_state=42)"
      ]
     },
     "execution_count": 81,
     "metadata": {},
     "output_type": "execute_result"
    }
   ],
   "source": [
    "from sklearn.tree import DecisionTreeClassifier\n",
    "dtc = DecisionTreeClassifier(criterion='entropy',random_state=42)\n",
    "dtc.fit(X_treino,Y_treino)\n"
   ]
  },
  {
   "cell_type": "code",
   "execution_count": 82,
   "metadata": {},
   "outputs": [
    {
     "data": {
      "text/plain": [
       "array([5.43251775e-02, 5.36566901e-02, 5.89318755e-03, 6.30071137e-02,\n",
       "       2.86568595e-02, 7.88352963e-03, 3.20806803e-02, 1.67005535e-04,\n",
       "       7.38353012e-02, 0.00000000e+00, 2.93654279e-02, 7.71734354e-05,\n",
       "       7.60100048e-03, 2.74666548e-02, 3.86696265e-03, 1.51717540e-02,\n",
       "       1.73474087e-02, 0.00000000e+00, 1.47917612e-02, 1.35147729e-02,\n",
       "       6.57222307e-04, 1.61281828e-02, 2.07963275e-02, 9.54716243e-04,\n",
       "       2.53592883e-02, 2.51712687e-02, 0.00000000e+00, 3.03235742e-02,\n",
       "       3.23808502e-02, 7.83602784e-04, 3.42517308e-02, 7.11900151e-03,\n",
       "       2.37729123e-01, 5.24520773e-03, 2.41167173e-02, 3.60923729e-02,\n",
       "       2.64886182e-02, 2.76937345e-02])"
      ]
     },
     "execution_count": 82,
     "metadata": {},
     "output_type": "execute_result"
    }
   ],
   "source": [
    "dtc.feature_importances_"
   ]
  },
  {
   "cell_type": "code",
   "execution_count": 83,
   "metadata": {},
   "outputs": [
    {
     "data": {
      "text/plain": [
       "array([0, 0, 0, ..., 1, 1, 0], dtype=int64)"
      ]
     },
     "execution_count": 83,
     "metadata": {},
     "output_type": "execute_result"
    }
   ],
   "source": [
    "predito_ArvoreDecisao = dtc.predict(X_teste)\n",
    "predito_ArvoreDecisao"
   ]
  },
  {
   "cell_type": "code",
   "execution_count": 85,
   "metadata": {
    "vscode": {
     "languageId": "html"
    }
   },
   "outputs": [
    {
     "ename": "SyntaxError",
     "evalue": "invalid syntax (7140046.py, line 1)",
     "output_type": "error",
     "traceback": [
      "\u001b[1;36m  Cell \u001b[1;32mIn[85], line 1\u001b[1;36m\u001b[0m\n\u001b[1;33m    <table><thead><tr><th></th><th></th><th colspan=\"2\">Predito</th></tr></thead><tbody><tr><td></td><td></td><td>SIM</td><td>NÃO</td></tr><tr><td rowspan=\"2\">REAL</td><td>SIM</td><td>Verdadeiro Positivo</td><td>Falso negativo</td></tr><tr><td>NÃO</td><td>Falso Positivo</td><td>Verdadeiro Negativo</td></tr></tbody></table>\u001b[0m\n\u001b[1;37m    ^\u001b[0m\n\u001b[1;31mSyntaxError\u001b[0m\u001b[1;31m:\u001b[0m invalid syntax\n"
     ]
    }
   ],
   "source": [
    "<table><thead><tr><th></th><th></th><th colspan=\"2\">Predito</th></tr></thead><tbody><tr><td></td><td></td><td>SIM</td><td>NÃO</td></tr><tr><td rowspan=\"2\">REAL</td><td>SIM</td><td>Verdadeiro Positivo</td><td>Falso negativo</td></tr><tr><td>NÃO</td><td>Falso Positivo</td><td>Verdadeiro Negativo</td></tr></tbody></table>"
   ]
  },
  {
   "cell_type": "code",
   "execution_count": 87,
   "metadata": {},
   "outputs": [
    {
     "name": "stdout",
     "output_type": "stream",
     "text": [
      "[[1310  213]\n",
      " [ 327  263]]\n"
     ]
    }
   ],
   "source": [
    "from sklearn.metrics import confusion_matrix\n",
    "print(confusion_matrix(Y_teste,predito_knn))"
   ]
  },
  {
   "cell_type": "code",
   "execution_count": 88,
   "metadata": {},
   "outputs": [
    {
     "name": "stdout",
     "output_type": "stream",
     "text": [
      "[[1042  481]\n",
      " [ 114  476]]\n"
     ]
    }
   ],
   "source": [
    "print(confusion_matrix(Y_teste,predito_bnb))"
   ]
  },
  {
   "cell_type": "code",
   "execution_count": 89,
   "metadata": {},
   "outputs": [
    {
     "name": "stdout",
     "output_type": "stream",
     "text": [
      "[[1279  244]\n",
      " [ 326  264]]\n"
     ]
    }
   ],
   "source": [
    "print(confusion_matrix(Y_teste,predito_ArvoreDecisao))"
   ]
  },
  {
   "attachments": {},
   "cell_type": "markdown",
   "metadata": {},
   "source": [
    "Acúracia \n",
    "o quanto o modelo acertou\n",
    "\n",
    "$$\n",
    "\\begin{equation}\n",
    "    \\begin{aligned}\n",
    "        ACC = \\frac{TP+TN}{TP+FP+TN+Fn}\n",
    "       \\\\\\\\\n",
    "        ACC &= \\text{Acuracia} \\\\\n",
    "        TP &= \\text{verdadeiro positivos} \\\\\n",
    "        TN &= \\text{verdadeiro negativo} \\\\\n",
    "        FP &= \\text{falsos positivos} \\\\\n",
    "        FN &= \\text{falsos negativos}\n",
    "\n",
    "    \\end{aligned}\n",
    "\\end{equation}\n",
    "$$"
   ]
  },
  {
   "cell_type": "code",
   "execution_count": 90,
   "metadata": {},
   "outputs": [],
   "source": [
    "from sklearn.metrics import accuracy_score\n"
   ]
  },
  {
   "cell_type": "code",
   "execution_count": 91,
   "metadata": {},
   "outputs": [
    {
     "name": "stdout",
     "output_type": "stream",
     "text": [
      "0.7444391859914813\n"
     ]
    }
   ],
   "source": [
    "print(accuracy_score(Y_teste,predito_knn))"
   ]
  },
  {
   "cell_type": "code",
   "execution_count": 92,
   "metadata": {},
   "outputs": [
    {
     "name": "stdout",
     "output_type": "stream",
     "text": [
      "0.718409843823947\n"
     ]
    }
   ],
   "source": [
    "print(accuracy_score(Y_teste,predito_bnb))"
   ]
  },
  {
   "cell_type": "code",
   "execution_count": 93,
   "metadata": {},
   "outputs": [
    {
     "name": "stdout",
     "output_type": "stream",
     "text": [
      "0.7302413629910081\n"
     ]
    }
   ],
   "source": [
    "print(accuracy_score(Y_teste,predito_ArvoreDecisao))"
   ]
  },
  {
   "attachments": {},
   "cell_type": "markdown",
   "metadata": {},
   "source": [
    "Precisão\n",
    "quantos verdadeiros positivos foram calculados de forma correta\n",
    "$$\n",
    "\\begin{equation}\n",
    "    \\begin{aligned}\n",
    "        PS = \\frac{TP}{TP+FP}\n",
    "       \\\\\\\\\n",
    "        PS &= \\text{Precisão} \\\\\n",
    "        TP &= \\text{Total positivo} \\\\\n",
    "        TN &= \\text{Total negativo} \\\\\n",
    "    \\end{aligned}\n",
    "\\end{equation}\n",
    "$$"
   ]
  },
  {
   "cell_type": "code",
   "execution_count": 94,
   "metadata": {},
   "outputs": [],
   "source": [
    "from sklearn.metrics import precision_score"
   ]
  },
  {
   "cell_type": "code",
   "execution_count": 95,
   "metadata": {},
   "outputs": [
    {
     "name": "stdout",
     "output_type": "stream",
     "text": [
      "0.5525210084033614\n"
     ]
    }
   ],
   "source": [
    "print(precision_score(Y_teste,predito_knn))"
   ]
  },
  {
   "cell_type": "code",
   "execution_count": 96,
   "metadata": {},
   "outputs": [
    {
     "name": "stdout",
     "output_type": "stream",
     "text": [
      "0.49738766980146293\n"
     ]
    }
   ],
   "source": [
    "print(precision_score(Y_teste,predito_bnb))"
   ]
  },
  {
   "cell_type": "code",
   "execution_count": 97,
   "metadata": {},
   "outputs": [
    {
     "name": "stdout",
     "output_type": "stream",
     "text": [
      "0.5196850393700787\n"
     ]
    }
   ],
   "source": [
    "print(precision_score(Y_teste,predito_ArvoreDecisao))"
   ]
  },
  {
   "attachments": {},
   "cell_type": "markdown",
   "metadata": {},
   "source": [
    "Recall\n",
    "$$\n",
    "\\begin{equation}\n",
    "    \\begin{aligned}\n",
    "        RC = \\frac{TP}{TP+FN}\n",
    "       \\\\\\\\\n",
    "        ACC &= \\text{Recall} \\\\\n",
    "        TP &= \\text{verdadeiro positivos} \\\\\n",
    "        FN &= \\text{falsos negativos}\n",
    "\n",
    "    \\end{aligned}\n",
    "\\end{equation}\n",
    "$$"
   ]
  },
  {
   "cell_type": "code",
   "execution_count": 98,
   "metadata": {},
   "outputs": [],
   "source": [
    "from sklearn.metrics import recall_score\n"
   ]
  },
  {
   "cell_type": "code",
   "execution_count": 99,
   "metadata": {},
   "outputs": [
    {
     "name": "stdout",
     "output_type": "stream",
     "text": [
      "0.4457627118644068\n",
      "0.8067796610169492\n",
      "0.44745762711864406\n"
     ]
    }
   ],
   "source": [
    "print(recall_score(Y_teste,predito_knn))\n",
    "print(recall_score(Y_teste,predito_bnb))\n",
    "print(recall_score(Y_teste,predito_ArvoreDecisao))"
   ]
  }
 ],
 "metadata": {
  "kernelspec": {
   "display_name": "Python 3",
   "language": "python",
   "name": "python3"
  },
  "language_info": {
   "codemirror_mode": {
    "name": "ipython",
    "version": 3
   },
   "file_extension": ".py",
   "mimetype": "text/x-python",
   "name": "python",
   "nbconvert_exporter": "python",
   "pygments_lexer": "ipython3",
   "version": "3.11.3"
  },
  "orig_nbformat": 4
 },
 "nbformat": 4,
 "nbformat_minor": 2
}
